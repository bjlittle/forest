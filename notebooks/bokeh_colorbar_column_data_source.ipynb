{
 "cells": [
  {
   "cell_type": "code",
   "execution_count": 132,
   "metadata": {},
   "outputs": [
    {
     "name": "stdout",
     "output_type": "stream",
     "text": [
      "Using matplotlib backend: MacOSX\n",
      "Populating the interactive namespace from numpy and matplotlib\n"
     ]
    },
    {
     "name": "stderr",
     "output_type": "stream",
     "text": [
      "/Users/andrewryan/miniconda3/envs/forest/lib/python3.6/site-packages/IPython/core/magics/pylab.py:160: UserWarning: pylab import has clobbered these variables: ['figure', 'colors']\n",
      "`%matplotlib` prevents importing * from pylab and numpy\n",
      "  \"\\n`%matplotlib` prevents importing * from pylab and numpy\"\n"
     ]
    }
   ],
   "source": [
    "%pylab\n",
    "%matplotlib inline\n"
   ]
  },
  {
   "cell_type": "code",
   "execution_count": 125,
   "metadata": {},
   "outputs": [],
   "source": [
    "import matplotlib\n",
    "import numpy as np"
   ]
  },
  {
   "cell_type": "code",
   "execution_count": 126,
   "metadata": {},
   "outputs": [
    {
     "name": "stdout",
     "output_type": "stream",
     "text": [
      "(2, 3)\n"
     ]
    }
   ],
   "source": [
    "colors = np.array([[0, 0, 0],\n",
    "                   [1, 1, 1]])\n",
    "print(colors.shape)\n",
    "color_map = matplotlib.colors.ListedColormap(colors)"
   ]
  },
  {
   "cell_type": "code",
   "execution_count": 127,
   "metadata": {},
   "outputs": [
    {
     "data": {
      "text/plain": [
       "array([[0, 0, 0],\n",
       "       [1, 1, 1]])"
      ]
     },
     "execution_count": 127,
     "metadata": {},
     "output_type": "execute_result"
    }
   ],
   "source": [
    "color_map.colors"
   ]
  },
  {
   "cell_type": "code",
   "execution_count": 128,
   "metadata": {},
   "outputs": [],
   "source": [
    "matplotlib.pyplot.colorbar?"
   ]
  },
  {
   "cell_type": "code",
   "execution_count": 16,
   "metadata": {},
   "outputs": [
    {
     "data": {
      "text/html": [
       "\n",
       "    <div class=\"bk-root\">\n",
       "        <a href=\"https://bokeh.pydata.org\" target=\"_blank\" class=\"bk-logo bk-logo-small bk-logo-notebook\"></a>\n",
       "        <span id=\"a85a70f0-4994-41d7-811e-5eab08e5fa4a\">Loading BokehJS ...</span>\n",
       "    </div>"
      ]
     },
     "metadata": {},
     "output_type": "display_data"
    },
    {
     "data": {
      "application/javascript": [
       "\n",
       "(function(root) {\n",
       "  function now() {\n",
       "    return new Date();\n",
       "  }\n",
       "\n",
       "  var force = true;\n",
       "\n",
       "  if (typeof (root._bokeh_onload_callbacks) === \"undefined\" || force === true) {\n",
       "    root._bokeh_onload_callbacks = [];\n",
       "    root._bokeh_is_loading = undefined;\n",
       "  }\n",
       "\n",
       "  var JS_MIME_TYPE = 'application/javascript';\n",
       "  var HTML_MIME_TYPE = 'text/html';\n",
       "  var EXEC_MIME_TYPE = 'application/vnd.bokehjs_exec.v0+json';\n",
       "  var CLASS_NAME = 'output_bokeh rendered_html';\n",
       "\n",
       "  /**\n",
       "   * Render data to the DOM node\n",
       "   */\n",
       "  function render(props, node) {\n",
       "    var script = document.createElement(\"script\");\n",
       "    node.appendChild(script);\n",
       "  }\n",
       "\n",
       "  /**\n",
       "   * Handle when an output is cleared or removed\n",
       "   */\n",
       "  function handleClearOutput(event, handle) {\n",
       "    var cell = handle.cell;\n",
       "\n",
       "    var id = cell.output_area._bokeh_element_id;\n",
       "    var server_id = cell.output_area._bokeh_server_id;\n",
       "    // Clean up Bokeh references\n",
       "    if (id !== undefined) {\n",
       "      Bokeh.index[id].model.document.clear();\n",
       "      delete Bokeh.index[id];\n",
       "    }\n",
       "\n",
       "    if (server_id !== undefined) {\n",
       "      // Clean up Bokeh references\n",
       "      var cmd = \"from bokeh.io.state import curstate; print(curstate().uuid_to_server['\" + server_id + \"'].get_sessions()[0].document.roots[0]._id)\";\n",
       "      cell.notebook.kernel.execute(cmd, {\n",
       "        iopub: {\n",
       "          output: function(msg) {\n",
       "            var element_id = msg.content.text.trim();\n",
       "            Bokeh.index[element_id].model.document.clear();\n",
       "            delete Bokeh.index[element_id];\n",
       "          }\n",
       "        }\n",
       "      });\n",
       "      // Destroy server and session\n",
       "      var cmd = \"import bokeh.io.notebook as ion; ion.destroy_server('\" + server_id + \"')\";\n",
       "      cell.notebook.kernel.execute(cmd);\n",
       "    }\n",
       "  }\n",
       "\n",
       "  /**\n",
       "   * Handle when a new output is added\n",
       "   */\n",
       "  function handleAddOutput(event, handle) {\n",
       "    var output_area = handle.output_area;\n",
       "    var output = handle.output;\n",
       "\n",
       "    // limit handleAddOutput to display_data with EXEC_MIME_TYPE content only\n",
       "    if ((output.output_type != \"display_data\") || (!output.data.hasOwnProperty(EXEC_MIME_TYPE))) {\n",
       "      return\n",
       "    }\n",
       "\n",
       "    var toinsert = output_area.element.find(\".\" + CLASS_NAME.split(' ')[0]);\n",
       "\n",
       "    if (output.metadata[EXEC_MIME_TYPE][\"id\"] !== undefined) {\n",
       "      toinsert[toinsert.length - 1].firstChild.textContent = output.data[JS_MIME_TYPE];\n",
       "      // store reference to embed id on output_area\n",
       "      output_area._bokeh_element_id = output.metadata[EXEC_MIME_TYPE][\"id\"];\n",
       "    }\n",
       "    if (output.metadata[EXEC_MIME_TYPE][\"server_id\"] !== undefined) {\n",
       "      var bk_div = document.createElement(\"div\");\n",
       "      bk_div.innerHTML = output.data[HTML_MIME_TYPE];\n",
       "      var script_attrs = bk_div.children[0].attributes;\n",
       "      for (var i = 0; i < script_attrs.length; i++) {\n",
       "        toinsert[toinsert.length - 1].firstChild.setAttribute(script_attrs[i].name, script_attrs[i].value);\n",
       "      }\n",
       "      // store reference to server id on output_area\n",
       "      output_area._bokeh_server_id = output.metadata[EXEC_MIME_TYPE][\"server_id\"];\n",
       "    }\n",
       "  }\n",
       "\n",
       "  function register_renderer(events, OutputArea) {\n",
       "\n",
       "    function append_mime(data, metadata, element) {\n",
       "      // create a DOM node to render to\n",
       "      var toinsert = this.create_output_subarea(\n",
       "        metadata,\n",
       "        CLASS_NAME,\n",
       "        EXEC_MIME_TYPE\n",
       "      );\n",
       "      this.keyboard_manager.register_events(toinsert);\n",
       "      // Render to node\n",
       "      var props = {data: data, metadata: metadata[EXEC_MIME_TYPE]};\n",
       "      render(props, toinsert[toinsert.length - 1]);\n",
       "      element.append(toinsert);\n",
       "      return toinsert\n",
       "    }\n",
       "\n",
       "    /* Handle when an output is cleared or removed */\n",
       "    events.on('clear_output.CodeCell', handleClearOutput);\n",
       "    events.on('delete.Cell', handleClearOutput);\n",
       "\n",
       "    /* Handle when a new output is added */\n",
       "    events.on('output_added.OutputArea', handleAddOutput);\n",
       "\n",
       "    /**\n",
       "     * Register the mime type and append_mime function with output_area\n",
       "     */\n",
       "    OutputArea.prototype.register_mime_type(EXEC_MIME_TYPE, append_mime, {\n",
       "      /* Is output safe? */\n",
       "      safe: true,\n",
       "      /* Index of renderer in `output_area.display_order` */\n",
       "      index: 0\n",
       "    });\n",
       "  }\n",
       "\n",
       "  // register the mime type if in Jupyter Notebook environment and previously unregistered\n",
       "  if (root.Jupyter !== undefined) {\n",
       "    var events = require('base/js/events');\n",
       "    var OutputArea = require('notebook/js/outputarea').OutputArea;\n",
       "\n",
       "    if (OutputArea.prototype.mime_types().indexOf(EXEC_MIME_TYPE) == -1) {\n",
       "      register_renderer(events, OutputArea);\n",
       "    }\n",
       "  }\n",
       "\n",
       "  \n",
       "  if (typeof (root._bokeh_timeout) === \"undefined\" || force === true) {\n",
       "    root._bokeh_timeout = Date.now() + 5000;\n",
       "    root._bokeh_failed_load = false;\n",
       "  }\n",
       "\n",
       "  var NB_LOAD_WARNING = {'data': {'text/html':\n",
       "     \"<div style='background-color: #fdd'>\\n\"+\n",
       "     \"<p>\\n\"+\n",
       "     \"BokehJS does not appear to have successfully loaded. If loading BokehJS from CDN, this \\n\"+\n",
       "     \"may be due to a slow or bad network connection. Possible fixes:\\n\"+\n",
       "     \"</p>\\n\"+\n",
       "     \"<ul>\\n\"+\n",
       "     \"<li>re-rerun `output_notebook()` to attempt to load from CDN again, or</li>\\n\"+\n",
       "     \"<li>use INLINE resources instead, as so:</li>\\n\"+\n",
       "     \"</ul>\\n\"+\n",
       "     \"<code>\\n\"+\n",
       "     \"from bokeh.resources import INLINE\\n\"+\n",
       "     \"output_notebook(resources=INLINE)\\n\"+\n",
       "     \"</code>\\n\"+\n",
       "     \"</div>\"}};\n",
       "\n",
       "  function display_loaded() {\n",
       "    var el = document.getElementById(\"a85a70f0-4994-41d7-811e-5eab08e5fa4a\");\n",
       "    if (el != null) {\n",
       "      el.textContent = \"BokehJS is loading...\";\n",
       "    }\n",
       "    if (root.Bokeh !== undefined) {\n",
       "      if (el != null) {\n",
       "        el.textContent = \"BokehJS \" + root.Bokeh.version + \" successfully loaded.\";\n",
       "      }\n",
       "    } else if (Date.now() < root._bokeh_timeout) {\n",
       "      setTimeout(display_loaded, 100)\n",
       "    }\n",
       "  }\n",
       "\n",
       "\n",
       "  function run_callbacks() {\n",
       "    try {\n",
       "      root._bokeh_onload_callbacks.forEach(function(callback) { callback() });\n",
       "    }\n",
       "    finally {\n",
       "      delete root._bokeh_onload_callbacks\n",
       "    }\n",
       "    console.info(\"Bokeh: all callbacks have finished\");\n",
       "  }\n",
       "\n",
       "  function load_libs(js_urls, callback) {\n",
       "    root._bokeh_onload_callbacks.push(callback);\n",
       "    if (root._bokeh_is_loading > 0) {\n",
       "      console.log(\"Bokeh: BokehJS is being loaded, scheduling callback at\", now());\n",
       "      return null;\n",
       "    }\n",
       "    if (js_urls == null || js_urls.length === 0) {\n",
       "      run_callbacks();\n",
       "      return null;\n",
       "    }\n",
       "    console.log(\"Bokeh: BokehJS not loaded, scheduling load and callback at\", now());\n",
       "    root._bokeh_is_loading = js_urls.length;\n",
       "    for (var i = 0; i < js_urls.length; i++) {\n",
       "      var url = js_urls[i];\n",
       "      var s = document.createElement('script');\n",
       "      s.src = url;\n",
       "      s.async = false;\n",
       "      s.onreadystatechange = s.onload = function() {\n",
       "        root._bokeh_is_loading--;\n",
       "        if (root._bokeh_is_loading === 0) {\n",
       "          console.log(\"Bokeh: all BokehJS libraries loaded\");\n",
       "          run_callbacks()\n",
       "        }\n",
       "      };\n",
       "      s.onerror = function() {\n",
       "        console.warn(\"failed to load library \" + url);\n",
       "      };\n",
       "      console.log(\"Bokeh: injecting script tag for BokehJS library: \", url);\n",
       "      document.getElementsByTagName(\"head\")[0].appendChild(s);\n",
       "    }\n",
       "  };var element = document.getElementById(\"a85a70f0-4994-41d7-811e-5eab08e5fa4a\");\n",
       "  if (element == null) {\n",
       "    console.log(\"Bokeh: ERROR: autoload.js configured with elementid 'a85a70f0-4994-41d7-811e-5eab08e5fa4a' but no matching script tag was found. \")\n",
       "    return false;\n",
       "  }\n",
       "\n",
       "  var js_urls = [\"https://cdn.pydata.org/bokeh/release/bokeh-0.12.15.min.js\", \"https://cdn.pydata.org/bokeh/release/bokeh-widgets-0.12.15.min.js\", \"https://cdn.pydata.org/bokeh/release/bokeh-tables-0.12.15.min.js\", \"https://cdn.pydata.org/bokeh/release/bokeh-gl-0.12.15.min.js\"];\n",
       "\n",
       "  var inline_js = [\n",
       "    function(Bokeh) {\n",
       "      Bokeh.set_log_level(\"info\");\n",
       "    },\n",
       "    \n",
       "    function(Bokeh) {\n",
       "      \n",
       "    },\n",
       "    function(Bokeh) {\n",
       "      console.log(\"Bokeh: injecting CSS: https://cdn.pydata.org/bokeh/release/bokeh-0.12.15.min.css\");\n",
       "      Bokeh.embed.inject_css(\"https://cdn.pydata.org/bokeh/release/bokeh-0.12.15.min.css\");\n",
       "      console.log(\"Bokeh: injecting CSS: https://cdn.pydata.org/bokeh/release/bokeh-widgets-0.12.15.min.css\");\n",
       "      Bokeh.embed.inject_css(\"https://cdn.pydata.org/bokeh/release/bokeh-widgets-0.12.15.min.css\");\n",
       "      console.log(\"Bokeh: injecting CSS: https://cdn.pydata.org/bokeh/release/bokeh-tables-0.12.15.min.css\");\n",
       "      Bokeh.embed.inject_css(\"https://cdn.pydata.org/bokeh/release/bokeh-tables-0.12.15.min.css\");\n",
       "    }\n",
       "  ];\n",
       "\n",
       "  function run_inline_js() {\n",
       "    \n",
       "    if ((root.Bokeh !== undefined) || (force === true)) {\n",
       "      for (var i = 0; i < inline_js.length; i++) {\n",
       "        inline_js[i].call(root, root.Bokeh);\n",
       "      }if (force === true) {\n",
       "        display_loaded();\n",
       "      }} else if (Date.now() < root._bokeh_timeout) {\n",
       "      setTimeout(run_inline_js, 100);\n",
       "    } else if (!root._bokeh_failed_load) {\n",
       "      console.log(\"Bokeh: BokehJS failed to load within specified timeout.\");\n",
       "      root._bokeh_failed_load = true;\n",
       "    } else if (force !== true) {\n",
       "      var cell = $(document.getElementById(\"a85a70f0-4994-41d7-811e-5eab08e5fa4a\")).parents('.cell').data().cell;\n",
       "      cell.output_area.append_execute_result(NB_LOAD_WARNING)\n",
       "    }\n",
       "\n",
       "  }\n",
       "\n",
       "  if (root._bokeh_is_loading === 0) {\n",
       "    console.log(\"Bokeh: BokehJS loaded, going straight to plotting\");\n",
       "    run_inline_js();\n",
       "  } else {\n",
       "    load_libs(js_urls, function() {\n",
       "      console.log(\"Bokeh: BokehJS plotting callback run at\", now());\n",
       "      run_inline_js();\n",
       "    });\n",
       "  }\n",
       "}(window));"
      ],
      "application/vnd.bokehjs_load.v0+json": "\n(function(root) {\n  function now() {\n    return new Date();\n  }\n\n  var force = true;\n\n  if (typeof (root._bokeh_onload_callbacks) === \"undefined\" || force === true) {\n    root._bokeh_onload_callbacks = [];\n    root._bokeh_is_loading = undefined;\n  }\n\n  \n\n  \n  if (typeof (root._bokeh_timeout) === \"undefined\" || force === true) {\n    root._bokeh_timeout = Date.now() + 5000;\n    root._bokeh_failed_load = false;\n  }\n\n  var NB_LOAD_WARNING = {'data': {'text/html':\n     \"<div style='background-color: #fdd'>\\n\"+\n     \"<p>\\n\"+\n     \"BokehJS does not appear to have successfully loaded. If loading BokehJS from CDN, this \\n\"+\n     \"may be due to a slow or bad network connection. Possible fixes:\\n\"+\n     \"</p>\\n\"+\n     \"<ul>\\n\"+\n     \"<li>re-rerun `output_notebook()` to attempt to load from CDN again, or</li>\\n\"+\n     \"<li>use INLINE resources instead, as so:</li>\\n\"+\n     \"</ul>\\n\"+\n     \"<code>\\n\"+\n     \"from bokeh.resources import INLINE\\n\"+\n     \"output_notebook(resources=INLINE)\\n\"+\n     \"</code>\\n\"+\n     \"</div>\"}};\n\n  function display_loaded() {\n    var el = document.getElementById(\"a85a70f0-4994-41d7-811e-5eab08e5fa4a\");\n    if (el != null) {\n      el.textContent = \"BokehJS is loading...\";\n    }\n    if (root.Bokeh !== undefined) {\n      if (el != null) {\n        el.textContent = \"BokehJS \" + root.Bokeh.version + \" successfully loaded.\";\n      }\n    } else if (Date.now() < root._bokeh_timeout) {\n      setTimeout(display_loaded, 100)\n    }\n  }\n\n\n  function run_callbacks() {\n    try {\n      root._bokeh_onload_callbacks.forEach(function(callback) { callback() });\n    }\n    finally {\n      delete root._bokeh_onload_callbacks\n    }\n    console.info(\"Bokeh: all callbacks have finished\");\n  }\n\n  function load_libs(js_urls, callback) {\n    root._bokeh_onload_callbacks.push(callback);\n    if (root._bokeh_is_loading > 0) {\n      console.log(\"Bokeh: BokehJS is being loaded, scheduling callback at\", now());\n      return null;\n    }\n    if (js_urls == null || js_urls.length === 0) {\n      run_callbacks();\n      return null;\n    }\n    console.log(\"Bokeh: BokehJS not loaded, scheduling load and callback at\", now());\n    root._bokeh_is_loading = js_urls.length;\n    for (var i = 0; i < js_urls.length; i++) {\n      var url = js_urls[i];\n      var s = document.createElement('script');\n      s.src = url;\n      s.async = false;\n      s.onreadystatechange = s.onload = function() {\n        root._bokeh_is_loading--;\n        if (root._bokeh_is_loading === 0) {\n          console.log(\"Bokeh: all BokehJS libraries loaded\");\n          run_callbacks()\n        }\n      };\n      s.onerror = function() {\n        console.warn(\"failed to load library \" + url);\n      };\n      console.log(\"Bokeh: injecting script tag for BokehJS library: \", url);\n      document.getElementsByTagName(\"head\")[0].appendChild(s);\n    }\n  };var element = document.getElementById(\"a85a70f0-4994-41d7-811e-5eab08e5fa4a\");\n  if (element == null) {\n    console.log(\"Bokeh: ERROR: autoload.js configured with elementid 'a85a70f0-4994-41d7-811e-5eab08e5fa4a' but no matching script tag was found. \")\n    return false;\n  }\n\n  var js_urls = [\"https://cdn.pydata.org/bokeh/release/bokeh-0.12.15.min.js\", \"https://cdn.pydata.org/bokeh/release/bokeh-widgets-0.12.15.min.js\", \"https://cdn.pydata.org/bokeh/release/bokeh-tables-0.12.15.min.js\", \"https://cdn.pydata.org/bokeh/release/bokeh-gl-0.12.15.min.js\"];\n\n  var inline_js = [\n    function(Bokeh) {\n      Bokeh.set_log_level(\"info\");\n    },\n    \n    function(Bokeh) {\n      \n    },\n    function(Bokeh) {\n      console.log(\"Bokeh: injecting CSS: https://cdn.pydata.org/bokeh/release/bokeh-0.12.15.min.css\");\n      Bokeh.embed.inject_css(\"https://cdn.pydata.org/bokeh/release/bokeh-0.12.15.min.css\");\n      console.log(\"Bokeh: injecting CSS: https://cdn.pydata.org/bokeh/release/bokeh-widgets-0.12.15.min.css\");\n      Bokeh.embed.inject_css(\"https://cdn.pydata.org/bokeh/release/bokeh-widgets-0.12.15.min.css\");\n      console.log(\"Bokeh: injecting CSS: https://cdn.pydata.org/bokeh/release/bokeh-tables-0.12.15.min.css\");\n      Bokeh.embed.inject_css(\"https://cdn.pydata.org/bokeh/release/bokeh-tables-0.12.15.min.css\");\n    }\n  ];\n\n  function run_inline_js() {\n    \n    if ((root.Bokeh !== undefined) || (force === true)) {\n      for (var i = 0; i < inline_js.length; i++) {\n        inline_js[i].call(root, root.Bokeh);\n      }if (force === true) {\n        display_loaded();\n      }} else if (Date.now() < root._bokeh_timeout) {\n      setTimeout(run_inline_js, 100);\n    } else if (!root._bokeh_failed_load) {\n      console.log(\"Bokeh: BokehJS failed to load within specified timeout.\");\n      root._bokeh_failed_load = true;\n    } else if (force !== true) {\n      var cell = $(document.getElementById(\"a85a70f0-4994-41d7-811e-5eab08e5fa4a\")).parents('.cell').data().cell;\n      cell.output_area.append_execute_result(NB_LOAD_WARNING)\n    }\n\n  }\n\n  if (root._bokeh_is_loading === 0) {\n    console.log(\"Bokeh: BokehJS loaded, going straight to plotting\");\n    run_inline_js();\n  } else {\n    load_libs(js_urls, function() {\n      console.log(\"Bokeh: BokehJS plotting callback run at\", now());\n      run_inline_js();\n    });\n  }\n}(window));"
     },
     "metadata": {},
     "output_type": "display_data"
    }
   ],
   "source": [
    "import bokeh.io\n",
    "bokeh.io.output_notebook()"
   ]
  },
  {
   "cell_type": "code",
   "execution_count": 29,
   "metadata": {},
   "outputs": [],
   "source": [
    "import bokeh.models\n",
    "source = bokeh.models.ColumnDataSource({\"x\": [1, 2, 3], \"y\": [1, 2, 3]})"
   ]
  },
  {
   "cell_type": "code",
   "execution_count": 71,
   "metadata": {},
   "outputs": [],
   "source": [
    "import bokeh.plotting\n"
   ]
  },
  {
   "cell_type": "code",
   "execution_count": 133,
   "metadata": {},
   "outputs": [
    {
     "data": {
      "text/html": [
       "\n",
       "<div class=\"bk-root\">\n",
       "    <div class=\"bk-plotdiv\" id=\"c8b777d3-de12-4cbb-b2c2-b319003be466\"></div>\n",
       "</div>"
      ]
     },
     "metadata": {},
     "output_type": "display_data"
    },
    {
     "data": {
      "application/javascript": [
       "(function(root) {\n",
       "  function embed_document(root) {\n",
       "    \n",
       "  var docs_json = {\"6a190836-f578-4082-8bac-710038bd5c9e\":{\"roots\":{\"references\":[{\"attributes\":{},\"id\":\"925801f0-72d9-4756-8982-11226157f075\",\"type\":\"LinearScale\"},{\"attributes\":{\"fill_color\":{\"field\":\"fill_color\"},\"height\":{\"units\":\"data\",\"value\":1.0},\"line_color\":{\"field\":\"line_color\"},\"width\":{\"units\":\"data\",\"value\":0.5},\"x\":{\"field\":\"x\"},\"y\":{\"value\":0.5}},\"id\":\"62376cc1-d37b-4d74-873e-2003cec43133\",\"type\":\"Rect\"},{\"attributes\":{\"formatter\":{\"id\":\"1cf7464b-0ee3-4769-a594-d5e01f674075\",\"type\":\"BasicTickFormatter\"},\"plot\":{\"id\":\"e32cfba9-7a5c-4f9e-a0b4-1a1951578e27\",\"subtype\":\"Figure\",\"type\":\"Plot\"},\"ticker\":{\"id\":\"713f875c-c420-46e4-9301-46caa5165424\",\"type\":\"BasicTicker\"}},\"id\":\"2db83898-c4fd-47f8-b9e2-2f0c9b9d8f71\",\"type\":\"LinearAxis\"},{\"attributes\":{\"plot\":{\"id\":\"e32cfba9-7a5c-4f9e-a0b4-1a1951578e27\",\"subtype\":\"Figure\",\"type\":\"Plot\"},\"ticker\":{\"id\":\"713f875c-c420-46e4-9301-46caa5165424\",\"type\":\"BasicTicker\"}},\"id\":\"0ea89bed-0ca1-4482-ae0c-bca2a54fd7de\",\"type\":\"Grid\"},{\"attributes\":{\"formatter\":{\"id\":\"5e8617a4-758c-4acb-b061-d9baf3f46789\",\"type\":\"BasicTickFormatter\"},\"plot\":{\"id\":\"e32cfba9-7a5c-4f9e-a0b4-1a1951578e27\",\"subtype\":\"Figure\",\"type\":\"Plot\"},\"ticker\":{\"id\":\"3312e0b3-cd71-4bb7-a6ea-eb2f2ce87d29\",\"type\":\"BasicTicker\"},\"visible\":null},\"id\":\"aaafe8f4-7e0a-48f5-9cd3-0360a1cddbbb\",\"type\":\"LinearAxis\"},{\"attributes\":{},\"id\":\"3312e0b3-cd71-4bb7-a6ea-eb2f2ce87d29\",\"type\":\"BasicTicker\"},{\"attributes\":{\"dimension\":1,\"plot\":{\"id\":\"e32cfba9-7a5c-4f9e-a0b4-1a1951578e27\",\"subtype\":\"Figure\",\"type\":\"Plot\"},\"ticker\":{\"id\":\"3312e0b3-cd71-4bb7-a6ea-eb2f2ce87d29\",\"type\":\"BasicTicker\"}},\"id\":\"ba17f71c-1223-4aa8-b18a-5e817d9f3709\",\"type\":\"Grid\"},{\"attributes\":{},\"id\":\"5e8617a4-758c-4acb-b061-d9baf3f46789\",\"type\":\"BasicTickFormatter\"},{\"attributes\":{\"fill_alpha\":{\"value\":0.1},\"fill_color\":{\"value\":\"#1f77b4\"},\"height\":{\"units\":\"data\",\"value\":1.0},\"line_alpha\":{\"value\":0.1},\"line_color\":{\"value\":\"#1f77b4\"},\"width\":{\"units\":\"data\",\"value\":0.5},\"x\":{\"field\":\"x\"},\"y\":{\"value\":0.5}},\"id\":\"77b3da2a-ba4f-4d9c-ae02-b2a4a418d6df\",\"type\":\"Rect\"},{\"attributes\":{\"data_source\":{\"id\":\"b1ddd90c-0f65-4f5e-864e-2769f6b890e6\",\"type\":\"ColumnDataSource\"},\"glyph\":{\"id\":\"62376cc1-d37b-4d74-873e-2003cec43133\",\"type\":\"Rect\"},\"hover_glyph\":null,\"muted_glyph\":null,\"nonselection_glyph\":{\"id\":\"77b3da2a-ba4f-4d9c-ae02-b2a4a418d6df\",\"type\":\"Rect\"},\"selection_glyph\":null,\"view\":{\"id\":\"a53bfc81-09b8-4560-bcf9-bcc474d68a6b\",\"type\":\"CDSView\"}},\"id\":\"f9382817-0c0c-4bc7-8a47-9549240c3288\",\"type\":\"GlyphRenderer\"},{\"attributes\":{\"active_drag\":\"auto\",\"active_inspect\":\"auto\",\"active_scroll\":\"auto\",\"active_tap\":\"auto\"},\"id\":\"87579d61-98a7-4f4a-ab3b-e00b5d5fb213\",\"type\":\"Toolbar\"},{\"attributes\":{\"below\":[{\"id\":\"2db83898-c4fd-47f8-b9e2-2f0c9b9d8f71\",\"type\":\"LinearAxis\"}],\"left\":[{\"id\":\"aaafe8f4-7e0a-48f5-9cd3-0360a1cddbbb\",\"type\":\"LinearAxis\"}],\"plot_height\":50,\"plot_width\":500,\"renderers\":[{\"id\":\"2db83898-c4fd-47f8-b9e2-2f0c9b9d8f71\",\"type\":\"LinearAxis\"},{\"id\":\"0ea89bed-0ca1-4482-ae0c-bca2a54fd7de\",\"type\":\"Grid\"},{\"id\":\"aaafe8f4-7e0a-48f5-9cd3-0360a1cddbbb\",\"type\":\"LinearAxis\"},{\"id\":\"ba17f71c-1223-4aa8-b18a-5e817d9f3709\",\"type\":\"Grid\"},{\"id\":\"f9382817-0c0c-4bc7-8a47-9549240c3288\",\"type\":\"GlyphRenderer\"}],\"title\":{\"id\":\"55db4b9c-b39f-482a-aaab-8b7d666238b3\",\"type\":\"Title\"},\"toolbar\":{\"id\":\"87579d61-98a7-4f4a-ab3b-e00b5d5fb213\",\"type\":\"Toolbar\"},\"toolbar_location\":null,\"x_range\":{\"id\":\"6801b4bc-35f0-4c62-90ac-8f40b693adea\",\"type\":\"Range1d\"},\"x_scale\":{\"id\":\"491abd2a-c32d-4374-b535-849406dcec17\",\"type\":\"LinearScale\"},\"y_range\":{\"id\":\"e1a49b5d-10f5-4d4c-9dd0-5845323fbb87\",\"type\":\"Range1d\"},\"y_scale\":{\"id\":\"925801f0-72d9-4756-8982-11226157f075\",\"type\":\"LinearScale\"}},\"id\":\"e32cfba9-7a5c-4f9e-a0b4-1a1951578e27\",\"subtype\":\"Figure\",\"type\":\"Plot\"},{\"attributes\":{\"callback\":null,\"column_names\":[\"x\",\"fill_color\",\"line_color\"],\"data\":{\"fill_color\":[\"red\",\"green\",\"blue\"],\"line_color\":[\"red\",\"green\",\"blue\"],\"x\":{\"__ndarray__\":\"AAAAAAAAAAAAAAAAAADgPwAAAAAAAPA/\",\"dtype\":\"float64\",\"shape\":[3]}},\"selected\":null,\"selection_policy\":null},\"id\":\"b1ddd90c-0f65-4f5e-864e-2769f6b890e6\",\"type\":\"ColumnDataSource\"},{\"attributes\":{\"source\":{\"id\":\"b1ddd90c-0f65-4f5e-864e-2769f6b890e6\",\"type\":\"ColumnDataSource\"}},\"id\":\"a53bfc81-09b8-4560-bcf9-bcc474d68a6b\",\"type\":\"CDSView\"},{\"attributes\":{},\"id\":\"713f875c-c420-46e4-9301-46caa5165424\",\"type\":\"BasicTicker\"},{\"attributes\":{\"callback\":null},\"id\":\"6801b4bc-35f0-4c62-90ac-8f40b693adea\",\"type\":\"Range1d\"},{\"attributes\":{\"plot\":null,\"text\":\"\"},\"id\":\"55db4b9c-b39f-482a-aaab-8b7d666238b3\",\"type\":\"Title\"},{\"attributes\":{\"callback\":null},\"id\":\"e1a49b5d-10f5-4d4c-9dd0-5845323fbb87\",\"type\":\"Range1d\"},{\"attributes\":{},\"id\":\"1cf7464b-0ee3-4769-a594-d5e01f674075\",\"type\":\"BasicTickFormatter\"},{\"attributes\":{},\"id\":\"491abd2a-c32d-4374-b535-849406dcec17\",\"type\":\"LinearScale\"}],\"root_ids\":[\"e32cfba9-7a5c-4f9e-a0b4-1a1951578e27\"]},\"title\":\"Bokeh Application\",\"version\":\"0.12.15\"}};\n",
       "  var render_items = [{\"docid\":\"6a190836-f578-4082-8bac-710038bd5c9e\",\"elementid\":\"c8b777d3-de12-4cbb-b2c2-b319003be466\",\"modelid\":\"e32cfba9-7a5c-4f9e-a0b4-1a1951578e27\"}];\n",
       "  root.Bokeh.embed.embed_items_notebook(docs_json, render_items);\n",
       "\n",
       "  }\n",
       "  if (root.Bokeh !== undefined) {\n",
       "    embed_document(root);\n",
       "  } else {\n",
       "    var attempts = 0;\n",
       "    var timer = setInterval(function(root) {\n",
       "      if (root.Bokeh !== undefined) {\n",
       "        embed_document(root);\n",
       "        clearInterval(timer);\n",
       "      }\n",
       "      attempts++;\n",
       "      if (attempts > 100) {\n",
       "        console.log(\"Bokeh: ERROR: Unable to run BokehJS code because BokehJS library is missing\")\n",
       "        clearInterval(timer);\n",
       "      }\n",
       "    }, 10, root)\n",
       "  }\n",
       "})(window);"
      ],
      "application/vnd.bokehjs_exec.v0+json": ""
     },
     "metadata": {
      "application/vnd.bokehjs_exec.v0+json": {
       "id": "e32cfba9-7a5c-4f9e-a0b4-1a1951578e27"
      }
     },
     "output_type": "display_data"
    }
   ],
   "source": [
    "x = np.linspace(0, 1, 3)\n",
    "dx = x[1] - x[0]\n",
    "figure = bokeh.plotting.figure(tools=\"\", plot_width=500, plot_height=50, y_range=[0, 1], x_range=[0, 1])\n",
    "figure.toolbar_location = None\n",
    "figure.yaxis.visible = None\n",
    "figure.rect(x=x, y=0.5, color=[\"red\", \"green\", \"blue\"], width=dx, height=1.0)\n",
    "bokeh.plotting.show(figure)"
   ]
  },
  {
   "cell_type": "code",
   "execution_count": 134,
   "metadata": {},
   "outputs": [
    {
     "data": {
      "text/html": [
       "\n",
       "<div class=\"bk-root\">\n",
       "    <div class=\"bk-plotdiv\" id=\"05e51ab0-075c-41b1-bc07-1a6f68f9d7a8\"></div>\n",
       "</div>"
      ]
     },
     "metadata": {},
     "output_type": "display_data"
    },
    {
     "data": {
      "application/javascript": [
       "(function(root) {\n",
       "  function embed_document(root) {\n",
       "    \n",
       "  var docs_json = {\"875eab76-7064-4a5e-a82c-c131b9062008\":{\"roots\":{\"references\":[{\"attributes\":{},\"id\":\"925801f0-72d9-4756-8982-11226157f075\",\"type\":\"LinearScale\"},{\"attributes\":{\"fill_color\":{\"field\":\"fill_color\"},\"height\":{\"units\":\"data\",\"value\":1.0},\"line_color\":{\"field\":\"line_color\"},\"width\":{\"units\":\"data\",\"value\":0.5},\"x\":{\"field\":\"x\"},\"y\":{\"value\":0.5}},\"id\":\"62376cc1-d37b-4d74-873e-2003cec43133\",\"type\":\"Rect\"},{\"attributes\":{\"formatter\":{\"id\":\"1cf7464b-0ee3-4769-a594-d5e01f674075\",\"type\":\"BasicTickFormatter\"},\"plot\":{\"id\":\"e32cfba9-7a5c-4f9e-a0b4-1a1951578e27\",\"subtype\":\"Figure\",\"type\":\"Plot\"},\"ticker\":{\"id\":\"713f875c-c420-46e4-9301-46caa5165424\",\"type\":\"BasicTicker\"}},\"id\":\"2db83898-c4fd-47f8-b9e2-2f0c9b9d8f71\",\"type\":\"LinearAxis\"},{\"attributes\":{\"plot\":{\"id\":\"e32cfba9-7a5c-4f9e-a0b4-1a1951578e27\",\"subtype\":\"Figure\",\"type\":\"Plot\"},\"ticker\":{\"id\":\"713f875c-c420-46e4-9301-46caa5165424\",\"type\":\"BasicTicker\"}},\"id\":\"0ea89bed-0ca1-4482-ae0c-bca2a54fd7de\",\"type\":\"Grid\"},{\"attributes\":{\"formatter\":{\"id\":\"5e8617a4-758c-4acb-b061-d9baf3f46789\",\"type\":\"BasicTickFormatter\"},\"plot\":{\"id\":\"e32cfba9-7a5c-4f9e-a0b4-1a1951578e27\",\"subtype\":\"Figure\",\"type\":\"Plot\"},\"ticker\":{\"id\":\"3312e0b3-cd71-4bb7-a6ea-eb2f2ce87d29\",\"type\":\"BasicTicker\"},\"visible\":null},\"id\":\"aaafe8f4-7e0a-48f5-9cd3-0360a1cddbbb\",\"type\":\"LinearAxis\"},{\"attributes\":{},\"id\":\"3312e0b3-cd71-4bb7-a6ea-eb2f2ce87d29\",\"type\":\"BasicTicker\"},{\"attributes\":{\"dimension\":1,\"plot\":{\"id\":\"e32cfba9-7a5c-4f9e-a0b4-1a1951578e27\",\"subtype\":\"Figure\",\"type\":\"Plot\"},\"ticker\":{\"id\":\"3312e0b3-cd71-4bb7-a6ea-eb2f2ce87d29\",\"type\":\"BasicTicker\"}},\"id\":\"ba17f71c-1223-4aa8-b18a-5e817d9f3709\",\"type\":\"Grid\"},{\"attributes\":{},\"id\":\"5e8617a4-758c-4acb-b061-d9baf3f46789\",\"type\":\"BasicTickFormatter\"},{\"attributes\":{\"fill_alpha\":{\"value\":0.1},\"fill_color\":{\"value\":\"#1f77b4\"},\"height\":{\"units\":\"data\",\"value\":1.0},\"line_alpha\":{\"value\":0.1},\"line_color\":{\"value\":\"#1f77b4\"},\"width\":{\"units\":\"data\",\"value\":0.5},\"x\":{\"field\":\"x\"},\"y\":{\"value\":0.5}},\"id\":\"77b3da2a-ba4f-4d9c-ae02-b2a4a418d6df\",\"type\":\"Rect\"},{\"attributes\":{\"data_source\":{\"id\":\"b1ddd90c-0f65-4f5e-864e-2769f6b890e6\",\"type\":\"ColumnDataSource\"},\"glyph\":{\"id\":\"62376cc1-d37b-4d74-873e-2003cec43133\",\"type\":\"Rect\"},\"hover_glyph\":null,\"muted_glyph\":null,\"nonselection_glyph\":{\"id\":\"77b3da2a-ba4f-4d9c-ae02-b2a4a418d6df\",\"type\":\"Rect\"},\"selection_glyph\":null,\"view\":{\"id\":\"a53bfc81-09b8-4560-bcf9-bcc474d68a6b\",\"type\":\"CDSView\"}},\"id\":\"f9382817-0c0c-4bc7-8a47-9549240c3288\",\"type\":\"GlyphRenderer\"},{\"attributes\":{\"active_drag\":\"auto\",\"active_inspect\":\"auto\",\"active_scroll\":\"auto\",\"active_tap\":\"auto\"},\"id\":\"87579d61-98a7-4f4a-ab3b-e00b5d5fb213\",\"type\":\"Toolbar\"},{\"attributes\":{\"below\":[{\"id\":\"2db83898-c4fd-47f8-b9e2-2f0c9b9d8f71\",\"type\":\"LinearAxis\"}],\"left\":[{\"id\":\"aaafe8f4-7e0a-48f5-9cd3-0360a1cddbbb\",\"type\":\"LinearAxis\"}],\"outline_line_color\":{\"value\":\"black\"},\"outline_line_width\":{\"value\":0},\"plot_height\":50,\"plot_width\":500,\"renderers\":[{\"id\":\"2db83898-c4fd-47f8-b9e2-2f0c9b9d8f71\",\"type\":\"LinearAxis\"},{\"id\":\"0ea89bed-0ca1-4482-ae0c-bca2a54fd7de\",\"type\":\"Grid\"},{\"id\":\"aaafe8f4-7e0a-48f5-9cd3-0360a1cddbbb\",\"type\":\"LinearAxis\"},{\"id\":\"ba17f71c-1223-4aa8-b18a-5e817d9f3709\",\"type\":\"Grid\"},{\"id\":\"f9382817-0c0c-4bc7-8a47-9549240c3288\",\"type\":\"GlyphRenderer\"}],\"title\":{\"id\":\"55db4b9c-b39f-482a-aaab-8b7d666238b3\",\"type\":\"Title\"},\"toolbar\":{\"id\":\"87579d61-98a7-4f4a-ab3b-e00b5d5fb213\",\"type\":\"Toolbar\"},\"toolbar_location\":null,\"x_range\":{\"id\":\"6801b4bc-35f0-4c62-90ac-8f40b693adea\",\"type\":\"Range1d\"},\"x_scale\":{\"id\":\"491abd2a-c32d-4374-b535-849406dcec17\",\"type\":\"LinearScale\"},\"y_range\":{\"id\":\"e1a49b5d-10f5-4d4c-9dd0-5845323fbb87\",\"type\":\"Range1d\"},\"y_scale\":{\"id\":\"925801f0-72d9-4756-8982-11226157f075\",\"type\":\"LinearScale\"}},\"id\":\"e32cfba9-7a5c-4f9e-a0b4-1a1951578e27\",\"subtype\":\"Figure\",\"type\":\"Plot\"},{\"attributes\":{\"callback\":null,\"column_names\":[\"x\",\"fill_color\",\"line_color\"],\"data\":{\"fill_color\":[\"red\",\"green\",\"blue\"],\"line_color\":[\"red\",\"green\",\"blue\"],\"x\":{\"__ndarray__\":\"AAAAAAAAAAAAAAAAAADgPwAAAAAAAPA/\",\"dtype\":\"float64\",\"shape\":[3]}},\"selected\":null,\"selection_policy\":null},\"id\":\"b1ddd90c-0f65-4f5e-864e-2769f6b890e6\",\"type\":\"ColumnDataSource\"},{\"attributes\":{\"source\":{\"id\":\"b1ddd90c-0f65-4f5e-864e-2769f6b890e6\",\"type\":\"ColumnDataSource\"}},\"id\":\"a53bfc81-09b8-4560-bcf9-bcc474d68a6b\",\"type\":\"CDSView\"},{\"attributes\":{},\"id\":\"713f875c-c420-46e4-9301-46caa5165424\",\"type\":\"BasicTicker\"},{\"attributes\":{\"callback\":null},\"id\":\"6801b4bc-35f0-4c62-90ac-8f40b693adea\",\"type\":\"Range1d\"},{\"attributes\":{\"plot\":null,\"text\":\"\"},\"id\":\"55db4b9c-b39f-482a-aaab-8b7d666238b3\",\"type\":\"Title\"},{\"attributes\":{\"callback\":null},\"id\":\"e1a49b5d-10f5-4d4c-9dd0-5845323fbb87\",\"type\":\"Range1d\"},{\"attributes\":{},\"id\":\"1cf7464b-0ee3-4769-a594-d5e01f674075\",\"type\":\"BasicTickFormatter\"},{\"attributes\":{},\"id\":\"491abd2a-c32d-4374-b535-849406dcec17\",\"type\":\"LinearScale\"}],\"root_ids\":[\"e32cfba9-7a5c-4f9e-a0b4-1a1951578e27\"]},\"title\":\"Bokeh Application\",\"version\":\"0.12.15\"}};\n",
       "  var render_items = [{\"docid\":\"875eab76-7064-4a5e-a82c-c131b9062008\",\"elementid\":\"05e51ab0-075c-41b1-bc07-1a6f68f9d7a8\",\"modelid\":\"e32cfba9-7a5c-4f9e-a0b4-1a1951578e27\"}];\n",
       "  root.Bokeh.embed.embed_items_notebook(docs_json, render_items);\n",
       "\n",
       "  }\n",
       "  if (root.Bokeh !== undefined) {\n",
       "    embed_document(root);\n",
       "  } else {\n",
       "    var attempts = 0;\n",
       "    var timer = setInterval(function(root) {\n",
       "      if (root.Bokeh !== undefined) {\n",
       "        embed_document(root);\n",
       "        clearInterval(timer);\n",
       "      }\n",
       "      attempts++;\n",
       "      if (attempts > 100) {\n",
       "        console.log(\"Bokeh: ERROR: Unable to run BokehJS code because BokehJS library is missing\")\n",
       "        clearInterval(timer);\n",
       "      }\n",
       "    }, 10, root)\n",
       "  }\n",
       "})(window);"
      ],
      "application/vnd.bokehjs_exec.v0+json": ""
     },
     "metadata": {
      "application/vnd.bokehjs_exec.v0+json": {
       "id": "e32cfba9-7a5c-4f9e-a0b4-1a1951578e27"
      }
     },
     "output_type": "display_data"
    }
   ],
   "source": [
    "figure.outline_line_color = \"black\"\n",
    "figure.outline_line_width = 0\n",
    "bokeh.plotting.show(figure)"
   ]
  },
  {
   "cell_type": "code",
   "execution_count": 136,
   "metadata": {},
   "outputs": [
    {
     "data": {
      "image/png": "[encoded data removed]",
      "text/plain": [
       "<Figure size 432x288 with 1 Axes>"
      ]
     },
     "metadata": {},
     "output_type": "display_data"
    }
   ],
   "source": [
    "# Make a realistic color bar\n",
    "x = np.linspace(0, 1, 100)\n",
    "y = x\n",
    "X, Y = np.meshgrid(x, y)\n",
    "Z = X + Y\n",
    "quad_mesh = pylab.pcolormesh(X, Y, Z)"
   ]
  },
  {
   "cell_type": "code",
   "execution_count": 137,
   "metadata": {},
   "outputs": [],
   "source": [
    "color_map = quad_mesh.get_cmap()"
   ]
  },
  {
   "cell_type": "code",
   "execution_count": 183,
   "metadata": {},
   "outputs": [
    {
     "name": "stdout",
     "output_type": "stream",
     "text": [
      "#440154\n"
     ]
    },
    {
     "data": {
      "text/html": [
       "\n",
       "<div class=\"bk-root\">\n",
       "    <div class=\"bk-plotdiv\" id=\"fa4ad937-49cc-4a19-9336-7e4f70e468e4\"></div>\n",
       "</div>"
      ]
     },
     "metadata": {},
     "output_type": "display_data"
    },
    {
     "data": {
      "application/javascript": [
       "(function(root) {\n",
       "  function embed_document(root) {\n",
       "    \n",
       "  var docs_json = {\"2c2c74c3-0418-43f5-a217-c22b2966dafa\":{\"roots\":{\"references\":[{\"attributes\":{},\"id\":\"248a1047-34b8-45e2-883b-a64a8c0b5032\",\"type\":\"BasicTickFormatter\"},{\"attributes\":{\"callback\":null,\"tooltips\":[[\"value\",\"$x\"],[\"color\",\"$color[hex, swatch]:fill_color\"]]},\"id\":\"3b96f243-7ee8-408c-897f-c5ff7ec22591\",\"type\":\"HoverTool\"},{\"attributes\":{\"callback\":null},\"id\":\"4ac41010-becf-4b79-90ac-322b4c87f938\",\"type\":\"DataRange1d\"},{\"attributes\":{},\"id\":\"cf09bfa1-fc34-4314-84ec-c5cf1ab6dd76\",\"type\":\"BasicTicker\"},{\"attributes\":{\"formatter\":{\"id\":\"248a1047-34b8-45e2-883b-a64a8c0b5032\",\"type\":\"BasicTickFormatter\"},\"plot\":{\"id\":\"ca5d55d1-e69c-4133-ab9b-4fb0484ba4da\",\"subtype\":\"Figure\",\"type\":\"Plot\"},\"ticker\":{\"id\":\"23ecbe80-7bd2-43f7-b4b2-99d49727a94d\",\"type\":\"BasicTicker\"}},\"id\":\"11221a6d-0f40-47f6-9ab2-50980c204c15\",\"type\":\"LinearAxis\"},{\"attributes\":{},\"id\":\"23ecbe80-7bd2-43f7-b4b2-99d49727a94d\",\"type\":\"BasicTicker\"},{\"attributes\":{\"callback\":null},\"id\":\"6b05bdd7-67fd-41f7-9a1b-8b09bd4f1062\",\"type\":\"Range1d\"},{\"attributes\":{\"below\":[{\"id\":\"11221a6d-0f40-47f6-9ab2-50980c204c15\",\"type\":\"LinearAxis\"}],\"left\":[{\"id\":\"7c3480db-aaf5-407f-8a08-ea8609410673\",\"type\":\"LinearAxis\"}],\"min_border_top\":20,\"plot_height\":60,\"plot_width\":500,\"renderers\":[{\"id\":\"11221a6d-0f40-47f6-9ab2-50980c204c15\",\"type\":\"LinearAxis\"},{\"id\":\"265ecfa6-402a-4df1-8f27-430d7c3b2c0e\",\"type\":\"Grid\"},{\"id\":\"7c3480db-aaf5-407f-8a08-ea8609410673\",\"type\":\"LinearAxis\"},{\"id\":\"0ac73947-978e-4064-a7c8-41d4b3764c6c\",\"type\":\"Grid\"},{\"id\":\"a8a005ba-fcbc-4d2e-a966-5e65659307d5\",\"type\":\"GlyphRenderer\"}],\"title\":{\"id\":\"27c27373-aa6a-492f-9abe-4de886887031\",\"type\":\"Title\"},\"toolbar\":{\"id\":\"3e0ac86e-0b8c-424d-b334-0fa0f8add8a7\",\"type\":\"Toolbar\"},\"toolbar_location\":null,\"x_range\":{\"id\":\"6b05bdd7-67fd-41f7-9a1b-8b09bd4f1062\",\"type\":\"Range1d\"},\"x_scale\":{\"id\":\"ee6a3b12-eecb-4863-9655-599311a980b0\",\"type\":\"LinearScale\"},\"y_range\":{\"id\":\"4ac41010-becf-4b79-90ac-322b4c87f938\",\"type\":\"DataRange1d\"},\"y_scale\":{\"id\":\"6b1117ef-4235-4cbe-8b28-52e081a780ff\",\"type\":\"LinearScale\"}},\"id\":\"ca5d55d1-e69c-4133-ab9b-4fb0484ba4da\",\"subtype\":\"Figure\",\"type\":\"Plot\"},{\"attributes\":{\"fill_color\":{\"field\":\"fill_color\"},\"height\":{\"units\":\"data\",\"value\":1},\"line_color\":{\"field\":\"line_color\"},\"width\":{\"units\":\"data\",\"value\":0.00392156862745098},\"x\":{\"field\":\"x\"},\"y\":{\"value\":0.5}},\"id\":\"bcc8f5cb-ea89-4aaa-81f7-2f867c617f54\",\"type\":\"Rect\"},{\"attributes\":{\"plot\":{\"id\":\"ca5d55d1-e69c-4133-ab9b-4fb0484ba4da\",\"subtype\":\"Figure\",\"type\":\"Plot\"},\"ticker\":{\"id\":\"23ecbe80-7bd2-43f7-b4b2-99d49727a94d\",\"type\":\"BasicTicker\"}},\"id\":\"265ecfa6-402a-4df1-8f27-430d7c3b2c0e\",\"type\":\"Grid\"},{\"attributes\":{\"callback\":null,\"column_names\":[\"x\",\"fill_color\",\"line_color\"],\"data\":{\"fill_color\":[\"#440154\",\"#440255\",\"#440357\",\"#450558\",\"#45065a\",\"#45085b\",\"#46095c\",\"#460b5e\",\"#460c5f\",\"#460e61\",\"#470f62\",\"#471163\",\"#471265\",\"#471466\",\"#471567\",\"#471669\",\"#47186a\",\"#48196b\",\"#481a6c\",\"#481c6e\",\"#481d6f\",\"#481e70\",\"#482071\",\"#482172\",\"#482273\",\"#482374\",\"#472575\",\"#472676\",\"#472777\",\"#472878\",\"#472a79\",\"#472b7a\",\"#472c7b\",\"#462d7c\",\"#462f7c\",\"#46307d\",\"#46317e\",\"#45327f\",\"#45347f\",\"#453580\",\"#453681\",\"#443781\",\"#443982\",\"#433a83\",\"#433b83\",\"#433c84\",\"#423d84\",\"#423e85\",\"#424085\",\"#414186\",\"#414286\",\"#404387\",\"#404487\",\"#3f4587\",\"#3f4788\",\"#3e4888\",\"#3e4989\",\"#3d4a89\",\"#3d4b89\",\"#3d4c89\",\"#3c4d8a\",\"#3c4e8a\",\"#3b508a\",\"#3b518a\",\"#3a528b\",\"#3a538b\",\"#39548b\",\"#39558b\",\"#38568b\",\"#38578c\",\"#37588c\",\"#37598c\",\"#365a8c\",\"#365b8c\",\"#355c8c\",\"#355d8c\",\"#345e8d\",\"#345f8d\",\"#33608d\",\"#33618d\",\"#32628d\",\"#32638d\",\"#31648d\",\"#31658d\",\"#31668d\",\"#30678d\",\"#30688d\",\"#2f698d\",\"#2f6a8d\",\"#2e6b8e\",\"#2e6c8e\",\"#2e6d8e\",\"#2d6e8e\",\"#2d6f8e\",\"#2c708e\",\"#2c718e\",\"#2c728e\",\"#2b738e\",\"#2b748e\",\"#2a758e\",\"#2a768e\",\"#2a778e\",\"#29788e\",\"#29798e\",\"#287a8e\",\"#287a8e\",\"#287b8e\",\"#277c8e\",\"#277d8e\",\"#277e8e\",\"#267f8e\",\"#26808e\",\"#26818e\",\"#25828e\",\"#25838d\",\"#24848d\",\"#24858d\",\"#24868d\",\"#23878d\",\"#23888d\",\"#23898d\",\"#22898d\",\"#228a8d\",\"#228b8d\",\"#218c8d\",\"#218d8c\",\"#218e8c\",\"#208f8c\",\"#20908c\",\"#20918c\",\"#1f928c\",\"#1f938b\",\"#1f948b\",\"#1f958b\",\"#1f968b\",\"#1e978a\",\"#1e988a\",\"#1e998a\",\"#1e998a\",\"#1e9a89\",\"#1e9b89\",\"#1e9c89\",\"#1e9d88\",\"#1e9e88\",\"#1e9f88\",\"#1ea087\",\"#1fa187\",\"#1fa286\",\"#1fa386\",\"#20a485\",\"#20a585\",\"#21a685\",\"#21a784\",\"#22a784\",\"#23a883\",\"#23a982\",\"#24aa82\",\"#25ab81\",\"#26ac81\",\"#27ad80\",\"#28ae7f\",\"#29af7f\",\"#2ab07e\",\"#2bb17d\",\"#2cb17d\",\"#2eb27c\",\"#2fb37b\",\"#30b47a\",\"#32b57a\",\"#33b679\",\"#35b778\",\"#36b877\",\"#38b976\",\"#39b976\",\"#3bba75\",\"#3dbb74\",\"#3ebc73\",\"#40bd72\",\"#42be71\",\"#44be70\",\"#45bf6f\",\"#47c06e\",\"#49c16d\",\"#4bc26c\",\"#4dc26b\",\"#4fc369\",\"#51c468\",\"#53c567\",\"#55c666\",\"#57c665\",\"#59c764\",\"#5bc862\",\"#5ec961\",\"#60c960\",\"#62ca5f\",\"#64cb5d\",\"#67cc5c\",\"#69cc5b\",\"#6bcd59\",\"#6dce58\",\"#70ce56\",\"#72cf55\",\"#74d054\",\"#77d052\",\"#79d151\",\"#7cd24f\",\"#7ed24e\",\"#81d34c\",\"#83d34b\",\"#86d449\",\"#88d547\",\"#8bd546\",\"#8dd644\",\"#90d643\",\"#92d741\",\"#95d73f\",\"#97d83e\",\"#9ad83c\",\"#9dd93a\",\"#9fd938\",\"#a2da37\",\"#a5da35\",\"#a7db33\",\"#aadb32\",\"#addc30\",\"#afdc2e\",\"#b2dd2c\",\"#b5dd2b\",\"#b7dd29\",\"#bade27\",\"#bdde26\",\"#bfdf24\",\"#c2df22\",\"#c5df21\",\"#c7e01f\",\"#cae01e\",\"#cde01d\",\"#cfe11c\",\"#d2e11b\",\"#d4e11a\",\"#d7e219\",\"#dae218\",\"#dce218\",\"#dfe318\",\"#e1e318\",\"#e4e318\",\"#e7e419\",\"#e9e419\",\"#ece41a\",\"#eee51b\",\"#f1e51c\",\"#f3e51e\",\"#f6e61f\",\"#f8e621\",\"#fae622\",\"#fde724\"],\"line_color\":[\"#440154\",\"#440255\",\"#440357\",\"#450558\",\"#45065a\",\"#45085b\",\"#46095c\",\"#460b5e\",\"#460c5f\",\"#460e61\",\"#470f62\",\"#471163\",\"#471265\",\"#471466\",\"#471567\",\"#471669\",\"#47186a\",\"#48196b\",\"#481a6c\",\"#481c6e\",\"#481d6f\",\"#481e70\",\"#482071\",\"#482172\",\"#482273\",\"#482374\",\"#472575\",\"#472676\",\"#472777\",\"#472878\",\"#472a79\",\"#472b7a\",\"#472c7b\",\"#462d7c\",\"#462f7c\",\"#46307d\",\"#46317e\",\"#45327f\",\"#45347f\",\"#453580\",\"#453681\",\"#443781\",\"#443982\",\"#433a83\",\"#433b83\",\"#433c84\",\"#423d84\",\"#423e85\",\"#424085\",\"#414186\",\"#414286\",\"#404387\",\"#404487\",\"#3f4587\",\"#3f4788\",\"#3e4888\",\"#3e4989\",\"#3d4a89\",\"#3d4b89\",\"#3d4c89\",\"#3c4d8a\",\"#3c4e8a\",\"#3b508a\",\"#3b518a\",\"#3a528b\",\"#3a538b\",\"#39548b\",\"#39558b\",\"#38568b\",\"#38578c\",\"#37588c\",\"#37598c\",\"#365a8c\",\"#365b8c\",\"#355c8c\",\"#355d8c\",\"#345e8d\",\"#345f8d\",\"#33608d\",\"#33618d\",\"#32628d\",\"#32638d\",\"#31648d\",\"#31658d\",\"#31668d\",\"#30678d\",\"#30688d\",\"#2f698d\",\"#2f6a8d\",\"#2e6b8e\",\"#2e6c8e\",\"#2e6d8e\",\"#2d6e8e\",\"#2d6f8e\",\"#2c708e\",\"#2c718e\",\"#2c728e\",\"#2b738e\",\"#2b748e\",\"#2a758e\",\"#2a768e\",\"#2a778e\",\"#29788e\",\"#29798e\",\"#287a8e\",\"#287a8e\",\"#287b8e\",\"#277c8e\",\"#277d8e\",\"#277e8e\",\"#267f8e\",\"#26808e\",\"#26818e\",\"#25828e\",\"#25838d\",\"#24848d\",\"#24858d\",\"#24868d\",\"#23878d\",\"#23888d\",\"#23898d\",\"#22898d\",\"#228a8d\",\"#228b8d\",\"#218c8d\",\"#218d8c\",\"#218e8c\",\"#208f8c\",\"#20908c\",\"#20918c\",\"#1f928c\",\"#1f938b\",\"#1f948b\",\"#1f958b\",\"#1f968b\",\"#1e978a\",\"#1e988a\",\"#1e998a\",\"#1e998a\",\"#1e9a89\",\"#1e9b89\",\"#1e9c89\",\"#1e9d88\",\"#1e9e88\",\"#1e9f88\",\"#1ea087\",\"#1fa187\",\"#1fa286\",\"#1fa386\",\"#20a485\",\"#20a585\",\"#21a685\",\"#21a784\",\"#22a784\",\"#23a883\",\"#23a982\",\"#24aa82\",\"#25ab81\",\"#26ac81\",\"#27ad80\",\"#28ae7f\",\"#29af7f\",\"#2ab07e\",\"#2bb17d\",\"#2cb17d\",\"#2eb27c\",\"#2fb37b\",\"#30b47a\",\"#32b57a\",\"#33b679\",\"#35b778\",\"#36b877\",\"#38b976\",\"#39b976\",\"#3bba75\",\"#3dbb74\",\"#3ebc73\",\"#40bd72\",\"#42be71\",\"#44be70\",\"#45bf6f\",\"#47c06e\",\"#49c16d\",\"#4bc26c\",\"#4dc26b\",\"#4fc369\",\"#51c468\",\"#53c567\",\"#55c666\",\"#57c665\",\"#59c764\",\"#5bc862\",\"#5ec961\",\"#60c960\",\"#62ca5f\",\"#64cb5d\",\"#67cc5c\",\"#69cc5b\",\"#6bcd59\",\"#6dce58\",\"#70ce56\",\"#72cf55\",\"#74d054\",\"#77d052\",\"#79d151\",\"#7cd24f\",\"#7ed24e\",\"#81d34c\",\"#83d34b\",\"#86d449\",\"#88d547\",\"#8bd546\",\"#8dd644\",\"#90d643\",\"#92d741\",\"#95d73f\",\"#97d83e\",\"#9ad83c\",\"#9dd93a\",\"#9fd938\",\"#a2da37\",\"#a5da35\",\"#a7db33\",\"#aadb32\",\"#addc30\",\"#afdc2e\",\"#b2dd2c\",\"#b5dd2b\",\"#b7dd29\",\"#bade27\",\"#bdde26\",\"#bfdf24\",\"#c2df22\",\"#c5df21\",\"#c7e01f\",\"#cae01e\",\"#cde01d\",\"#cfe11c\",\"#d2e11b\",\"#d4e11a\",\"#d7e219\",\"#dae218\",\"#dce218\",\"#dfe318\",\"#e1e318\",\"#e4e318\",\"#e7e419\",\"#e9e419\",\"#ece41a\",\"#eee51b\",\"#f1e51c\",\"#f3e51e\",\"#f6e61f\",\"#f8e621\",\"#fae622\",\"#fde724\"],\"x\":{\"__ndarray__\":\"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\",\"dtype\":\"float64\",\"shape\":[256]}},\"selected\":null,\"selection_policy\":null},\"id\":\"21903229-e6c5-49e3-98d2-621e73728470\",\"type\":\"ColumnDataSource\"},{\"attributes\":{\"formatter\":{\"id\":\"ccb1b61f-b3f8-4aa2-8e95-790f95d966b1\",\"type\":\"BasicTickFormatter\"},\"plot\":{\"id\":\"ca5d55d1-e69c-4133-ab9b-4fb0484ba4da\",\"subtype\":\"Figure\",\"type\":\"Plot\"},\"ticker\":{\"id\":\"cf09bfa1-fc34-4314-84ec-c5cf1ab6dd76\",\"type\":\"BasicTicker\"},\"visible\":false},\"id\":\"7c3480db-aaf5-407f-8a08-ea8609410673\",\"type\":\"LinearAxis\"},{\"attributes\":{},\"id\":\"ccb1b61f-b3f8-4aa2-8e95-790f95d966b1\",\"type\":\"BasicTickFormatter\"},{\"attributes\":{\"active_drag\":\"auto\",\"active_inspect\":\"auto\",\"active_scroll\":\"auto\",\"active_tap\":\"auto\",\"tools\":[{\"id\":\"3b96f243-7ee8-408c-897f-c5ff7ec22591\",\"type\":\"HoverTool\"}]},\"id\":\"3e0ac86e-0b8c-424d-b334-0fa0f8add8a7\",\"type\":\"Toolbar\"},{\"attributes\":{\"dimension\":1,\"plot\":{\"id\":\"ca5d55d1-e69c-4133-ab9b-4fb0484ba4da\",\"subtype\":\"Figure\",\"type\":\"Plot\"},\"ticker\":{\"id\":\"cf09bfa1-fc34-4314-84ec-c5cf1ab6dd76\",\"type\":\"BasicTicker\"}},\"id\":\"0ac73947-978e-4064-a7c8-41d4b3764c6c\",\"type\":\"Grid\"},{\"attributes\":{},\"id\":\"ee6a3b12-eecb-4863-9655-599311a980b0\",\"type\":\"LinearScale\"},{\"attributes\":{\"data_source\":{\"id\":\"21903229-e6c5-49e3-98d2-621e73728470\",\"type\":\"ColumnDataSource\"},\"glyph\":{\"id\":\"bcc8f5cb-ea89-4aaa-81f7-2f867c617f54\",\"type\":\"Rect\"},\"hover_glyph\":null,\"muted_glyph\":null,\"nonselection_glyph\":{\"id\":\"6a83292d-4194-462a-b40f-2b787526fed3\",\"type\":\"Rect\"},\"selection_glyph\":null,\"view\":{\"id\":\"fe424af3-f11f-41a9-9c5b-3530431729e2\",\"type\":\"CDSView\"}},\"id\":\"a8a005ba-fcbc-4d2e-a966-5e65659307d5\",\"type\":\"GlyphRenderer\"},{\"attributes\":{},\"id\":\"6b1117ef-4235-4cbe-8b28-52e081a780ff\",\"type\":\"LinearScale\"},{\"attributes\":{\"source\":{\"id\":\"21903229-e6c5-49e3-98d2-621e73728470\",\"type\":\"ColumnDataSource\"}},\"id\":\"fe424af3-f11f-41a9-9c5b-3530431729e2\",\"type\":\"CDSView\"},{\"attributes\":{\"plot\":null,\"text\":\"\"},\"id\":\"27c27373-aa6a-492f-9abe-4de886887031\",\"type\":\"Title\"},{\"attributes\":{\"fill_alpha\":{\"value\":0.1},\"fill_color\":{\"value\":\"#1f77b4\"},\"height\":{\"units\":\"data\",\"value\":1},\"line_alpha\":{\"value\":0.1},\"line_color\":{\"value\":\"#1f77b4\"},\"width\":{\"units\":\"data\",\"value\":0.00392156862745098},\"x\":{\"field\":\"x\"},\"y\":{\"value\":0.5}},\"id\":\"6a83292d-4194-462a-b40f-2b787526fed3\",\"type\":\"Rect\"}],\"root_ids\":[\"ca5d55d1-e69c-4133-ab9b-4fb0484ba4da\"]},\"title\":\"Bokeh Application\",\"version\":\"0.12.15\"}};\n",
       "  var render_items = [{\"docid\":\"2c2c74c3-0418-43f5-a217-c22b2966dafa\",\"elementid\":\"fa4ad937-49cc-4a19-9336-7e4f70e468e4\",\"modelid\":\"ca5d55d1-e69c-4133-ab9b-4fb0484ba4da\"}];\n",
       "  root.Bokeh.embed.embed_items_notebook(docs_json, render_items);\n",
       "\n",
       "  }\n",
       "  if (root.Bokeh !== undefined) {\n",
       "    embed_document(root);\n",
       "  } else {\n",
       "    var attempts = 0;\n",
       "    var timer = setInterval(function(root) {\n",
       "      if (root.Bokeh !== undefined) {\n",
       "        embed_document(root);\n",
       "        clearInterval(timer);\n",
       "      }\n",
       "      attempts++;\n",
       "      if (attempts > 100) {\n",
       "        console.log(\"Bokeh: ERROR: Unable to run BokehJS code because BokehJS library is missing\")\n",
       "        clearInterval(timer);\n",
       "      }\n",
       "    }, 10, root)\n",
       "  }\n",
       "})(window);"
      ],
      "application/vnd.bokehjs_exec.v0+json": ""
     },
     "metadata": {
      "application/vnd.bokehjs_exec.v0+json": {
       "id": "ca5d55d1-e69c-4133-ab9b-4fb0484ba4da"
      }
     },
     "output_type": "display_data"
    }
   ],
   "source": [
    "figure = bokeh.plotting.figure(tools=\"\", plot_width=500, plot_height=60, x_range=[0, 1])\n",
    "figure.yaxis.visible = False\n",
    "figure.toolbar_location = None\n",
    "x = np.linspace(0, 1, color_map.N)\n",
    "dx = x[1] - x[0]\n",
    "rgb_colors = [\"#{:02x}{:02x}{:02x}\".format(int(255 * r), int(255 * g), int(255 * b)) for r, g, b in color_map.colors]\n",
    "print(rgb_colors[0])\n",
    "figure.rect(x=x, y=0.5, color=rgb_colors, height=1, width=dx)\n",
    "\n",
    "# Add some padding to the top to prevent tooltip clipping\n",
    "figure.min_border_top = 20\n",
    "\n",
    "# Hover tool tip\n",
    "hover = bokeh.models.HoverTool()\n",
    "hover.tooltips = [\n",
    "    (\"value\", \"$x\"),\n",
    "    (\"color\", \"$color[hex, swatch]:fill_color\")\n",
    "]\n",
    "figure.add_tools(hover)\n",
    "bokeh.plotting.show(figure)"
   ]
  },
  {
   "cell_type": "code",
   "execution_count": 168,
   "metadata": {},
   "outputs": [
    {
     "name": "stdout",
     "output_type": "stream",
     "text": [
      "None\n"
     ]
    }
   ],
   "source": []
  },
  {
   "cell_type": "code",
   "execution_count": null,
   "metadata": {},
   "outputs": [],
   "source": []
  }
 ],
 "metadata": {
  "kernelspec": {
   "display_name": "Python 3",
   "language": "python",
   "name": "python3"
  },
  "language_info": {
   "codemirror_mode": {
    "name": "ipython",
    "version": 3
   },
   "file_extension": ".py",
   "mimetype": "text/x-python",
   "name": "python",
   "nbconvert_exporter": "python",
   "pygments_lexer": "ipython3",
   "version": "3.6.4"
  }
 },
 "nbformat": 4,
 "nbformat_minor": 2
}
