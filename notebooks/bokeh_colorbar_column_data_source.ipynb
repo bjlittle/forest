{
 "cells": [
  {
   "cell_type": "code",
   "execution_count": 132,
   "metadata": {},
   "outputs": [
    {
     "name": "stdout",
     "output_type": "stream",
     "text": [
      "Using matplotlib backend: MacOSX\n",
      "Populating the interactive namespace from numpy and matplotlib\n"
     ]
    },
    {
     "name": "stderr",
     "output_type": "stream",
     "text": [
      "/Users/andrewryan/miniconda3/envs/forest/lib/python3.6/site-packages/IPython/core/magics/pylab.py:160: UserWarning: pylab import has clobbered these variables: ['figure', 'colors']\n",
      "`%matplotlib` prevents importing * from pylab and numpy\n",
      "  \"\\n`%matplotlib` prevents importing * from pylab and numpy\"\n"
     ]
    }
   ],
   "source": [
    "%pylab\n",
    "%matplotlib inline\n"
   ]
  },
  {
   "cell_type": "code",
   "execution_count": 125,
   "metadata": {},
   "outputs": [],
   "source": [
    "import matplotlib\n",
    "import numpy as np"
   ]
  },
  {
   "cell_type": "code",
   "execution_count": 126,
   "metadata": {},
   "outputs": [
    {
     "name": "stdout",
     "output_type": "stream",
     "text": [
      "(2, 3)\n"
     ]
    }
   ],
   "source": [
    "colors = np.array([[0, 0, 0],\n",
    "                   [1, 1, 1]])\n",
    "print(colors.shape)\n",
    "color_map = matplotlib.colors.ListedColormap(colors)"
   ]
  },
  {
   "cell_type": "code",
   "execution_count": 127,
   "metadata": {},
   "outputs": [
    {
     "data": {
      "text/plain": [
       "array([[0, 0, 0],\n",
       "       [1, 1, 1]])"
      ]
     },
     "execution_count": 127,
     "metadata": {},
     "output_type": "execute_result"
    }
   ],
   "source": [
    "color_map.colors"
   ]
  },
  {
   "cell_type": "code",
   "execution_count": 128,
   "metadata": {},
   "outputs": [],
   "source": [
    "matplotlib.pyplot.colorbar?"
   ]
  },
  {
   "cell_type": "code",
   "execution_count": 16,
   "metadata": {},
   "outputs": [
    {
     "data": {
      "text/html": [
       "\n",
       "    <div class=\"bk-root\">\n",
       "        <a href=\"https://bokeh.pydata.org\" target=\"_blank\" class=\"bk-logo bk-logo-small bk-logo-notebook\"></a>\n",
       "        <span id=\"a85a70f0-4994-41d7-811e-5eab08e5fa4a\">Loading BokehJS ...</span>\n",
       "    </div>"
      ]
     },
     "metadata": {},
     "output_type": "display_data"
    },
    {
     "data": {
      "application/javascript": [
       "\n",
       "(function(root) {\n",
       "  function now() {\n",
       "    return new Date();\n",
       "  }\n",
       "\n",
       "  var force = true;\n",
       "\n",
       "  if (typeof (root._bokeh_onload_callbacks) === \"undefined\" || force === true) {\n",
       "    root._bokeh_onload_callbacks = [];\n",
       "    root._bokeh_is_loading = undefined;\n",
       "  }\n",
       "\n",
       "  var JS_MIME_TYPE = 'application/javascript';\n",
       "  var HTML_MIME_TYPE = 'text/html';\n",
       "  var EXEC_MIME_TYPE = 'application/vnd.bokehjs_exec.v0+json';\n",
       "  var CLASS_NAME = 'output_bokeh rendered_html';\n",
       "\n",
       "  /**\n",
       "   * Render data to the DOM node\n",
       "   */\n",
       "  function render(props, node) {\n",
       "    var script = document.createElement(\"script\");\n",
       "    node.appendChild(script);\n",
       "  }\n",
       "\n",
       "  /**\n",
       "   * Handle when an output is cleared or removed\n",
       "   */\n",
       "  function handleClearOutput(event, handle) {\n",
       "    var cell = handle.cell;\n",
       "\n",
       "    var id = cell.output_area._bokeh_element_id;\n",
       "    var server_id = cell.output_area._bokeh_server_id;\n",
       "    // Clean up Bokeh references\n",
       "    if (id !== undefined) {\n",
       "      Bokeh.index[id].model.document.clear();\n",
       "      delete Bokeh.index[id];\n",
       "    }\n",
       "\n",
       "    if (server_id !== undefined) {\n",
       "      // Clean up Bokeh references\n",
       "      var cmd = \"from bokeh.io.state import curstate; print(curstate().uuid_to_server['\" + server_id + \"'].get_sessions()[0].document.roots[0]._id)\";\n",
       "      cell.notebook.kernel.execute(cmd, {\n",
       "        iopub: {\n",
       "          output: function(msg) {\n",
       "            var element_id = msg.content.text.trim();\n",
       "            Bokeh.index[element_id].model.document.clear();\n",
       "            delete Bokeh.index[element_id];\n",
       "          }\n",
       "        }\n",
       "      });\n",
       "      // Destroy server and session\n",
       "      var cmd = \"import bokeh.io.notebook as ion; ion.destroy_server('\" + server_id + \"')\";\n",
       "      cell.notebook.kernel.execute(cmd);\n",
       "    }\n",
       "  }\n",
       "\n",
       "  /**\n",
       "   * Handle when a new output is added\n",
       "   */\n",
       "  function handleAddOutput(event, handle) {\n",
       "    var output_area = handle.output_area;\n",
       "    var output = handle.output;\n",
       "\n",
       "    // limit handleAddOutput to display_data with EXEC_MIME_TYPE content only\n",
       "    if ((output.output_type != \"display_data\") || (!output.data.hasOwnProperty(EXEC_MIME_TYPE))) {\n",
       "      return\n",
       "    }\n",
       "\n",
       "    var toinsert = output_area.element.find(\".\" + CLASS_NAME.split(' ')[0]);\n",
       "\n",
       "    if (output.metadata[EXEC_MIME_TYPE][\"id\"] !== undefined) {\n",
       "      toinsert[toinsert.length - 1].firstChild.textContent = output.data[JS_MIME_TYPE];\n",
       "      // store reference to embed id on output_area\n",
       "      output_area._bokeh_element_id = output.metadata[EXEC_MIME_TYPE][\"id\"];\n",
       "    }\n",
       "    if (output.metadata[EXEC_MIME_TYPE][\"server_id\"] !== undefined) {\n",
       "      var bk_div = document.createElement(\"div\");\n",
       "      bk_div.innerHTML = output.data[HTML_MIME_TYPE];\n",
       "      var script_attrs = bk_div.children[0].attributes;\n",
       "      for (var i = 0; i < script_attrs.length; i++) {\n",
       "        toinsert[toinsert.length - 1].firstChild.setAttribute(script_attrs[i].name, script_attrs[i].value);\n",
       "      }\n",
       "      // store reference to server id on output_area\n",
       "      output_area._bokeh_server_id = output.metadata[EXEC_MIME_TYPE][\"server_id\"];\n",
       "    }\n",
       "  }\n",
       "\n",
       "  function register_renderer(events, OutputArea) {\n",
       "\n",
       "    function append_mime(data, metadata, element) {\n",
       "      // create a DOM node to render to\n",
       "      var toinsert = this.create_output_subarea(\n",
       "        metadata,\n",
       "        CLASS_NAME,\n",
       "        EXEC_MIME_TYPE\n",
       "      );\n",
       "      this.keyboard_manager.register_events(toinsert);\n",
       "      // Render to node\n",
       "      var props = {data: data, metadata: metadata[EXEC_MIME_TYPE]};\n",
       "      render(props, toinsert[toinsert.length - 1]);\n",
       "      element.append(toinsert);\n",
       "      return toinsert\n",
       "    }\n",
       "\n",
       "    /* Handle when an output is cleared or removed */\n",
       "    events.on('clear_output.CodeCell', handleClearOutput);\n",
       "    events.on('delete.Cell', handleClearOutput);\n",
       "\n",
       "    /* Handle when a new output is added */\n",
       "    events.on('output_added.OutputArea', handleAddOutput);\n",
       "\n",
       "    /**\n",
       "     * Register the mime type and append_mime function with output_area\n",
       "     */\n",
       "    OutputArea.prototype.register_mime_type(EXEC_MIME_TYPE, append_mime, {\n",
       "      /* Is output safe? */\n",
       "      safe: true,\n",
       "      /* Index of renderer in `output_area.display_order` */\n",
       "      index: 0\n",
       "    });\n",
       "  }\n",
       "\n",
       "  // register the mime type if in Jupyter Notebook environment and previously unregistered\n",
       "  if (root.Jupyter !== undefined) {\n",
       "    var events = require('base/js/events');\n",
       "    var OutputArea = require('notebook/js/outputarea').OutputArea;\n",
       "\n",
       "    if (OutputArea.prototype.mime_types().indexOf(EXEC_MIME_TYPE) == -1) {\n",
       "      register_renderer(events, OutputArea);\n",
       "    }\n",
       "  }\n",
       "\n",
       "  \n",
       "  if (typeof (root._bokeh_timeout) === \"undefined\" || force === true) {\n",
       "    root._bokeh_timeout = Date.now() + 5000;\n",
       "    root._bokeh_failed_load = false;\n",
       "  }\n",
       "\n",
       "  var NB_LOAD_WARNING = {'data': {'text/html':\n",
       "     \"<div style='background-color: #fdd'>\\n\"+\n",
       "     \"<p>\\n\"+\n",
       "     \"BokehJS does not appear to have successfully loaded. If loading BokehJS from CDN, this \\n\"+\n",
       "     \"may be due to a slow or bad network connection. Possible fixes:\\n\"+\n",
       "     \"</p>\\n\"+\n",
       "     \"<ul>\\n\"+\n",
       "     \"<li>re-rerun `output_notebook()` to attempt to load from CDN again, or</li>\\n\"+\n",
       "     \"<li>use INLINE resources instead, as so:</li>\\n\"+\n",
       "     \"</ul>\\n\"+\n",
       "     \"<code>\\n\"+\n",
       "     \"from bokeh.resources import INLINE\\n\"+\n",
       "     \"output_notebook(resources=INLINE)\\n\"+\n",
       "     \"</code>\\n\"+\n",
       "     \"</div>\"}};\n",
       "\n",
       "  function display_loaded() {\n",
       "    var el = document.getElementById(\"a85a70f0-4994-41d7-811e-5eab08e5fa4a\");\n",
       "    if (el != null) {\n",
       "      el.textContent = \"BokehJS is loading...\";\n",
       "    }\n",
       "    if (root.Bokeh !== undefined) {\n",
       "      if (el != null) {\n",
       "        el.textContent = \"BokehJS \" + root.Bokeh.version + \" successfully loaded.\";\n",
       "      }\n",
       "    } else if (Date.now() < root._bokeh_timeout) {\n",
       "      setTimeout(display_loaded, 100)\n",
       "    }\n",
       "  }\n",
       "\n",
       "\n",
       "  function run_callbacks() {\n",
       "    try {\n",
       "      root._bokeh_onload_callbacks.forEach(function(callback) { callback() });\n",
       "    }\n",
       "    finally {\n",
       "      delete root._bokeh_onload_callbacks\n",
       "    }\n",
       "    console.info(\"Bokeh: all callbacks have finished\");\n",
       "  }\n",
       "\n",
       "  function load_libs(js_urls, callback) {\n",
       "    root._bokeh_onload_callbacks.push(callback);\n",
       "    if (root._bokeh_is_loading > 0) {\n",
       "      console.log(\"Bokeh: BokehJS is being loaded, scheduling callback at\", now());\n",
       "      return null;\n",
       "    }\n",
       "    if (js_urls == null || js_urls.length === 0) {\n",
       "      run_callbacks();\n",
       "      return null;\n",
       "    }\n",
       "    console.log(\"Bokeh: BokehJS not loaded, scheduling load and callback at\", now());\n",
       "    root._bokeh_is_loading = js_urls.length;\n",
       "    for (var i = 0; i < js_urls.length; i++) {\n",
       "      var url = js_urls[i];\n",
       "      var s = document.createElement('script');\n",
       "      s.src = url;\n",
       "      s.async = false;\n",
       "      s.onreadystatechange = s.onload = function() {\n",
       "        root._bokeh_is_loading--;\n",
       "        if (root._bokeh_is_loading === 0) {\n",
       "          console.log(\"Bokeh: all BokehJS libraries loaded\");\n",
       "          run_callbacks()\n",
       "        }\n",
       "      };\n",
       "      s.onerror = function() {\n",
       "        console.warn(\"failed to load library \" + url);\n",
       "      };\n",
       "      console.log(\"Bokeh: injecting script tag for BokehJS library: \", url);\n",
       "      document.getElementsByTagName(\"head\")[0].appendChild(s);\n",
       "    }\n",
       "  };var element = document.getElementById(\"a85a70f0-4994-41d7-811e-5eab08e5fa4a\");\n",
       "  if (element == null) {\n",
       "    console.log(\"Bokeh: ERROR: autoload.js configured with elementid 'a85a70f0-4994-41d7-811e-5eab08e5fa4a' but no matching script tag was found. \")\n",
       "    return false;\n",
       "  }\n",
       "\n",
       "  var js_urls = [\"https://cdn.pydata.org/bokeh/release/bokeh-0.12.15.min.js\", \"https://cdn.pydata.org/bokeh/release/bokeh-widgets-0.12.15.min.js\", \"https://cdn.pydata.org/bokeh/release/bokeh-tables-0.12.15.min.js\", \"https://cdn.pydata.org/bokeh/release/bokeh-gl-0.12.15.min.js\"];\n",
       "\n",
       "  var inline_js = [\n",
       "    function(Bokeh) {\n",
       "      Bokeh.set_log_level(\"info\");\n",
       "    },\n",
       "    \n",
       "    function(Bokeh) {\n",
       "      \n",
       "    },\n",
       "    function(Bokeh) {\n",
       "      console.log(\"Bokeh: injecting CSS: https://cdn.pydata.org/bokeh/release/bokeh-0.12.15.min.css\");\n",
       "      Bokeh.embed.inject_css(\"https://cdn.pydata.org/bokeh/release/bokeh-0.12.15.min.css\");\n",
       "      console.log(\"Bokeh: injecting CSS: https://cdn.pydata.org/bokeh/release/bokeh-widgets-0.12.15.min.css\");\n",
       "      Bokeh.embed.inject_css(\"https://cdn.pydata.org/bokeh/release/bokeh-widgets-0.12.15.min.css\");\n",
       "      console.log(\"Bokeh: injecting CSS: https://cdn.pydata.org/bokeh/release/bokeh-tables-0.12.15.min.css\");\n",
       "      Bokeh.embed.inject_css(\"https://cdn.pydata.org/bokeh/release/bokeh-tables-0.12.15.min.css\");\n",
       "    }\n",
       "  ];\n",
       "\n",
       "  function run_inline_js() {\n",
       "    \n",
       "    if ((root.Bokeh !== undefined) || (force === true)) {\n",
       "      for (var i = 0; i < inline_js.length; i++) {\n",
       "        inline_js[i].call(root, root.Bokeh);\n",
       "      }if (force === true) {\n",
       "        display_loaded();\n",
       "      }} else if (Date.now() < root._bokeh_timeout) {\n",
       "      setTimeout(run_inline_js, 100);\n",
       "    } else if (!root._bokeh_failed_load) {\n",
       "      console.log(\"Bokeh: BokehJS failed to load within specified timeout.\");\n",
       "      root._bokeh_failed_load = true;\n",
       "    } else if (force !== true) {\n",
       "      var cell = $(document.getElementById(\"a85a70f0-4994-41d7-811e-5eab08e5fa4a\")).parents('.cell').data().cell;\n",
       "      cell.output_area.append_execute_result(NB_LOAD_WARNING)\n",
       "    }\n",
       "\n",
       "  }\n",
       "\n",
       "  if (root._bokeh_is_loading === 0) {\n",
       "    console.log(\"Bokeh: BokehJS loaded, going straight to plotting\");\n",
       "    run_inline_js();\n",
       "  } else {\n",
       "    load_libs(js_urls, function() {\n",
       "      console.log(\"Bokeh: BokehJS plotting callback run at\", now());\n",
       "      run_inline_js();\n",
       "    });\n",
       "  }\n",
       "}(window));"
      ],
      "application/vnd.bokehjs_load.v0+json": "\n(function(root) {\n  function now() {\n    return new Date();\n  }\n\n  var force = true;\n\n  if (typeof (root._bokeh_onload_callbacks) === \"undefined\" || force === true) {\n    root._bokeh_onload_callbacks = [];\n    root._bokeh_is_loading = undefined;\n  }\n\n  \n\n  \n  if (typeof (root._bokeh_timeout) === \"undefined\" || force === true) {\n    root._bokeh_timeout = Date.now() + 5000;\n    root._bokeh_failed_load = false;\n  }\n\n  var NB_LOAD_WARNING = {'data': {'text/html':\n     \"<div style='background-color: #fdd'>\\n\"+\n     \"<p>\\n\"+\n     \"BokehJS does not appear to have successfully loaded. If loading BokehJS from CDN, this \\n\"+\n     \"may be due to a slow or bad network connection. Possible fixes:\\n\"+\n     \"</p>\\n\"+\n     \"<ul>\\n\"+\n     \"<li>re-rerun `output_notebook()` to attempt to load from CDN again, or</li>\\n\"+\n     \"<li>use INLINE resources instead, as so:</li>\\n\"+\n     \"</ul>\\n\"+\n     \"<code>\\n\"+\n     \"from bokeh.resources import INLINE\\n\"+\n     \"output_notebook(resources=INLINE)\\n\"+\n     \"</code>\\n\"+\n     \"</div>\"}};\n\n  function display_loaded() {\n    var el = document.getElementById(\"a85a70f0-4994-41d7-811e-5eab08e5fa4a\");\n    if (el != null) {\n      el.textContent = \"BokehJS is loading...\";\n    }\n    if (root.Bokeh !== undefined) {\n      if (el != null) {\n        el.textContent = \"BokehJS \" + root.Bokeh.version + \" successfully loaded.\";\n      }\n    } else if (Date.now() < root._bokeh_timeout) {\n      setTimeout(display_loaded, 100)\n    }\n  }\n\n\n  function run_callbacks() {\n    try {\n      root._bokeh_onload_callbacks.forEach(function(callback) { callback() });\n    }\n    finally {\n      delete root._bokeh_onload_callbacks\n    }\n    console.info(\"Bokeh: all callbacks have finished\");\n  }\n\n  function load_libs(js_urls, callback) {\n    root._bokeh_onload_callbacks.push(callback);\n    if (root._bokeh_is_loading > 0) {\n      console.log(\"Bokeh: BokehJS is being loaded, scheduling callback at\", now());\n      return null;\n    }\n    if (js_urls == null || js_urls.length === 0) {\n      run_callbacks();\n      return null;\n    }\n    console.log(\"Bokeh: BokehJS not loaded, scheduling load and callback at\", now());\n    root._bokeh_is_loading = js_urls.length;\n    for (var i = 0; i < js_urls.length; i++) {\n      var url = js_urls[i];\n      var s = document.createElement('script');\n      s.src = url;\n      s.async = false;\n      s.onreadystatechange = s.onload = function() {\n        root._bokeh_is_loading--;\n        if (root._bokeh_is_loading === 0) {\n          console.log(\"Bokeh: all BokehJS libraries loaded\");\n          run_callbacks()\n        }\n      };\n      s.onerror = function() {\n        console.warn(\"failed to load library \" + url);\n      };\n      console.log(\"Bokeh: injecting script tag for BokehJS library: \", url);\n      document.getElementsByTagName(\"head\")[0].appendChild(s);\n    }\n  };var element = document.getElementById(\"a85a70f0-4994-41d7-811e-5eab08e5fa4a\");\n  if (element == null) {\n    console.log(\"Bokeh: ERROR: autoload.js configured with elementid 'a85a70f0-4994-41d7-811e-5eab08e5fa4a' but no matching script tag was found. \")\n    return false;\n  }\n\n  var js_urls = [\"https://cdn.pydata.org/bokeh/release/bokeh-0.12.15.min.js\", \"https://cdn.pydata.org/bokeh/release/bokeh-widgets-0.12.15.min.js\", \"https://cdn.pydata.org/bokeh/release/bokeh-tables-0.12.15.min.js\", \"https://cdn.pydata.org/bokeh/release/bokeh-gl-0.12.15.min.js\"];\n\n  var inline_js = [\n    function(Bokeh) {\n      Bokeh.set_log_level(\"info\");\n    },\n    \n    function(Bokeh) {\n      \n    },\n    function(Bokeh) {\n      console.log(\"Bokeh: injecting CSS: https://cdn.pydata.org/bokeh/release/bokeh-0.12.15.min.css\");\n      Bokeh.embed.inject_css(\"https://cdn.pydata.org/bokeh/release/bokeh-0.12.15.min.css\");\n      console.log(\"Bokeh: injecting CSS: https://cdn.pydata.org/bokeh/release/bokeh-widgets-0.12.15.min.css\");\n      Bokeh.embed.inject_css(\"https://cdn.pydata.org/bokeh/release/bokeh-widgets-0.12.15.min.css\");\n      console.log(\"Bokeh: injecting CSS: https://cdn.pydata.org/bokeh/release/bokeh-tables-0.12.15.min.css\");\n      Bokeh.embed.inject_css(\"https://cdn.pydata.org/bokeh/release/bokeh-tables-0.12.15.min.css\");\n    }\n  ];\n\n  function run_inline_js() {\n    \n    if ((root.Bokeh !== undefined) || (force === true)) {\n      for (var i = 0; i < inline_js.length; i++) {\n        inline_js[i].call(root, root.Bokeh);\n      }if (force === true) {\n        display_loaded();\n      }} else if (Date.now() < root._bokeh_timeout) {\n      setTimeout(run_inline_js, 100);\n    } else if (!root._bokeh_failed_load) {\n      console.log(\"Bokeh: BokehJS failed to load within specified timeout.\");\n      root._bokeh_failed_load = true;\n    } else if (force !== true) {\n      var cell = $(document.getElementById(\"a85a70f0-4994-41d7-811e-5eab08e5fa4a\")).parents('.cell').data().cell;\n      cell.output_area.append_execute_result(NB_LOAD_WARNING)\n    }\n\n  }\n\n  if (root._bokeh_is_loading === 0) {\n    console.log(\"Bokeh: BokehJS loaded, going straight to plotting\");\n    run_inline_js();\n  } else {\n    load_libs(js_urls, function() {\n      console.log(\"Bokeh: BokehJS plotting callback run at\", now());\n      run_inline_js();\n    });\n  }\n}(window));"
     },
     "metadata": {},
     "output_type": "display_data"
    }
   ],
   "source": [
    "import bokeh.io\n",
    "bokeh.io.output_notebook()"
   ]
  },
  {
   "cell_type": "code",
   "execution_count": 29,
   "metadata": {},
   "outputs": [],
   "source": [
    "import bokeh.models\n",
    "source = bokeh.models.ColumnDataSource({\"x\": [1, 2, 3], \"y\": [1, 2, 3]})"
   ]
  },
  {
   "cell_type": "code",
   "execution_count": 71,
   "metadata": {},
   "outputs": [],
   "source": [
    "import bokeh.plotting\n"
   ]
  },
  {
   "cell_type": "code",
   "execution_count": 133,
   "metadata": {},
   "outputs": [
    {
     "data": {
      "text/html": [
       "\n",
       "<div class=\"bk-root\">\n",
       "    <div class=\"bk-plotdiv\" id=\"c8b777d3-de12-4cbb-b2c2-b319003be466\"></div>\n",
       "</div>"
      ]
     },
     "metadata": {},
     "output_type": "display_data"
    },
    {
     "data": {
      "application/javascript": [
       "(function(root) {\n",
       "  function embed_document(root) {\n",
       "    \n",
       "  var docs_json = {\"6a190836-f578-4082-8bac-710038bd5c9e\":{\"roots\":{\"references\":[{\"attributes\":{},\"id\":\"925801f0-72d9-4756-8982-11226157f075\",\"type\":\"LinearScale\"},{\"attributes\":{\"fill_color\":{\"field\":\"fill_color\"},\"height\":{\"units\":\"data\",\"value\":1.0},\"line_color\":{\"field\":\"line_color\"},\"width\":{\"units\":\"data\",\"value\":0.5},\"x\":{\"field\":\"x\"},\"y\":{\"value\":0.5}},\"id\":\"62376cc1-d37b-4d74-873e-2003cec43133\",\"type\":\"Rect\"},{\"attributes\":{\"formatter\":{\"id\":\"1cf7464b-0ee3-4769-a594-d5e01f674075\",\"type\":\"BasicTickFormatter\"},\"plot\":{\"id\":\"e32cfba9-7a5c-4f9e-a0b4-1a1951578e27\",\"subtype\":\"Figure\",\"type\":\"Plot\"},\"ticker\":{\"id\":\"713f875c-c420-46e4-9301-46caa5165424\",\"type\":\"BasicTicker\"}},\"id\":\"2db83898-c4fd-47f8-b9e2-2f0c9b9d8f71\",\"type\":\"LinearAxis\"},{\"attributes\":{\"plot\":{\"id\":\"e32cfba9-7a5c-4f9e-a0b4-1a1951578e27\",\"subtype\":\"Figure\",\"type\":\"Plot\"},\"ticker\":{\"id\":\"713f875c-c420-46e4-9301-46caa5165424\",\"type\":\"BasicTicker\"}},\"id\":\"0ea89bed-0ca1-4482-ae0c-bca2a54fd7de\",\"type\":\"Grid\"},{\"attributes\":{\"formatter\":{\"id\":\"5e8617a4-758c-4acb-b061-d9baf3f46789\",\"type\":\"BasicTickFormatter\"},\"plot\":{\"id\":\"e32cfba9-7a5c-4f9e-a0b4-1a1951578e27\",\"subtype\":\"Figure\",\"type\":\"Plot\"},\"ticker\":{\"id\":\"3312e0b3-cd71-4bb7-a6ea-eb2f2ce87d29\",\"type\":\"BasicTicker\"},\"visible\":null},\"id\":\"aaafe8f4-7e0a-48f5-9cd3-0360a1cddbbb\",\"type\":\"LinearAxis\"},{\"attributes\":{},\"id\":\"3312e0b3-cd71-4bb7-a6ea-eb2f2ce87d29\",\"type\":\"BasicTicker\"},{\"attributes\":{\"dimension\":1,\"plot\":{\"id\":\"e32cfba9-7a5c-4f9e-a0b4-1a1951578e27\",\"subtype\":\"Figure\",\"type\":\"Plot\"},\"ticker\":{\"id\":\"3312e0b3-cd71-4bb7-a6ea-eb2f2ce87d29\",\"type\":\"BasicTicker\"}},\"id\":\"ba17f71c-1223-4aa8-b18a-5e817d9f3709\",\"type\":\"Grid\"},{\"attributes\":{},\"id\":\"5e8617a4-758c-4acb-b061-d9baf3f46789\",\"type\":\"BasicTickFormatter\"},{\"attributes\":{\"fill_alpha\":{\"value\":0.1},\"fill_color\":{\"value\":\"#1f77b4\"},\"height\":{\"units\":\"data\",\"value\":1.0},\"line_alpha\":{\"value\":0.1},\"line_color\":{\"value\":\"#1f77b4\"},\"width\":{\"units\":\"data\",\"value\":0.5},\"x\":{\"field\":\"x\"},\"y\":{\"value\":0.5}},\"id\":\"77b3da2a-ba4f-4d9c-ae02-b2a4a418d6df\",\"type\":\"Rect\"},{\"attributes\":{\"data_source\":{\"id\":\"b1ddd90c-0f65-4f5e-864e-2769f6b890e6\",\"type\":\"ColumnDataSource\"},\"glyph\":{\"id\":\"62376cc1-d37b-4d74-873e-2003cec43133\",\"type\":\"Rect\"},\"hover_glyph\":null,\"muted_glyph\":null,\"nonselection_glyph\":{\"id\":\"77b3da2a-ba4f-4d9c-ae02-b2a4a418d6df\",\"type\":\"Rect\"},\"selection_glyph\":null,\"view\":{\"id\":\"a53bfc81-09b8-4560-bcf9-bcc474d68a6b\",\"type\":\"CDSView\"}},\"id\":\"f9382817-0c0c-4bc7-8a47-9549240c3288\",\"type\":\"GlyphRenderer\"},{\"attributes\":{\"active_drag\":\"auto\",\"active_inspect\":\"auto\",\"active_scroll\":\"auto\",\"active_tap\":\"auto\"},\"id\":\"87579d61-98a7-4f4a-ab3b-e00b5d5fb213\",\"type\":\"Toolbar\"},{\"attributes\":{\"below\":[{\"id\":\"2db83898-c4fd-47f8-b9e2-2f0c9b9d8f71\",\"type\":\"LinearAxis\"}],\"left\":[{\"id\":\"aaafe8f4-7e0a-48f5-9cd3-0360a1cddbbb\",\"type\":\"LinearAxis\"}],\"plot_height\":50,\"plot_width\":500,\"renderers\":[{\"id\":\"2db83898-c4fd-47f8-b9e2-2f0c9b9d8f71\",\"type\":\"LinearAxis\"},{\"id\":\"0ea89bed-0ca1-4482-ae0c-bca2a54fd7de\",\"type\":\"Grid\"},{\"id\":\"aaafe8f4-7e0a-48f5-9cd3-0360a1cddbbb\",\"type\":\"LinearAxis\"},{\"id\":\"ba17f71c-1223-4aa8-b18a-5e817d9f3709\",\"type\":\"Grid\"},{\"id\":\"f9382817-0c0c-4bc7-8a47-9549240c3288\",\"type\":\"GlyphRenderer\"}],\"title\":{\"id\":\"55db4b9c-b39f-482a-aaab-8b7d666238b3\",\"type\":\"Title\"},\"toolbar\":{\"id\":\"87579d61-98a7-4f4a-ab3b-e00b5d5fb213\",\"type\":\"Toolbar\"},\"toolbar_location\":null,\"x_range\":{\"id\":\"6801b4bc-35f0-4c62-90ac-8f40b693adea\",\"type\":\"Range1d\"},\"x_scale\":{\"id\":\"491abd2a-c32d-4374-b535-849406dcec17\",\"type\":\"LinearScale\"},\"y_range\":{\"id\":\"e1a49b5d-10f5-4d4c-9dd0-5845323fbb87\",\"type\":\"Range1d\"},\"y_scale\":{\"id\":\"925801f0-72d9-4756-8982-11226157f075\",\"type\":\"LinearScale\"}},\"id\":\"e32cfba9-7a5c-4f9e-a0b4-1a1951578e27\",\"subtype\":\"Figure\",\"type\":\"Plot\"},{\"attributes\":{\"callback\":null,\"column_names\":[\"x\",\"fill_color\",\"line_color\"],\"data\":{\"fill_color\":[\"red\",\"green\",\"blue\"],\"line_color\":[\"red\",\"green\",\"blue\"],\"x\":{\"__ndarray__\":\"AAAAAAAAAAAAAAAAAADgPwAAAAAAAPA/\",\"dtype\":\"float64\",\"shape\":[3]}},\"selected\":null,\"selection_policy\":null},\"id\":\"b1ddd90c-0f65-4f5e-864e-2769f6b890e6\",\"type\":\"ColumnDataSource\"},{\"attributes\":{\"source\":{\"id\":\"b1ddd90c-0f65-4f5e-864e-2769f6b890e6\",\"type\":\"ColumnDataSource\"}},\"id\":\"a53bfc81-09b8-4560-bcf9-bcc474d68a6b\",\"type\":\"CDSView\"},{\"attributes\":{},\"id\":\"713f875c-c420-46e4-9301-46caa5165424\",\"type\":\"BasicTicker\"},{\"attributes\":{\"callback\":null},\"id\":\"6801b4bc-35f0-4c62-90ac-8f40b693adea\",\"type\":\"Range1d\"},{\"attributes\":{\"plot\":null,\"text\":\"\"},\"id\":\"55db4b9c-b39f-482a-aaab-8b7d666238b3\",\"type\":\"Title\"},{\"attributes\":{\"callback\":null},\"id\":\"e1a49b5d-10f5-4d4c-9dd0-5845323fbb87\",\"type\":\"Range1d\"},{\"attributes\":{},\"id\":\"1cf7464b-0ee3-4769-a594-d5e01f674075\",\"type\":\"BasicTickFormatter\"},{\"attributes\":{},\"id\":\"491abd2a-c32d-4374-b535-849406dcec17\",\"type\":\"LinearScale\"}],\"root_ids\":[\"e32cfba9-7a5c-4f9e-a0b4-1a1951578e27\"]},\"title\":\"Bokeh Application\",\"version\":\"0.12.15\"}};\n",
       "  var render_items = [{\"docid\":\"6a190836-f578-4082-8bac-710038bd5c9e\",\"elementid\":\"c8b777d3-de12-4cbb-b2c2-b319003be466\",\"modelid\":\"e32cfba9-7a5c-4f9e-a0b4-1a1951578e27\"}];\n",
       "  root.Bokeh.embed.embed_items_notebook(docs_json, render_items);\n",
       "\n",
       "  }\n",
       "  if (root.Bokeh !== undefined) {\n",
       "    embed_document(root);\n",
       "  } else {\n",
       "    var attempts = 0;\n",
       "    var timer = setInterval(function(root) {\n",
       "      if (root.Bokeh !== undefined) {\n",
       "        embed_document(root);\n",
       "        clearInterval(timer);\n",
       "      }\n",
       "      attempts++;\n",
       "      if (attempts > 100) {\n",
       "        console.log(\"Bokeh: ERROR: Unable to run BokehJS code because BokehJS library is missing\")\n",
       "        clearInterval(timer);\n",
       "      }\n",
       "    }, 10, root)\n",
       "  }\n",
       "})(window);"
      ],
      "application/vnd.bokehjs_exec.v0+json": ""
     },
     "metadata": {
      "application/vnd.bokehjs_exec.v0+json": {
       "id": "e32cfba9-7a5c-4f9e-a0b4-1a1951578e27"
      }
     },
     "output_type": "display_data"
    }
   ],
   "source": [
    "x = np.linspace(0, 1, 3)\n",
    "dx = x[1] - x[0]\n",
    "figure = bokeh.plotting.figure(tools=\"\", plot_width=500, plot_height=50, y_range=[0, 1], x_range=[0, 1])\n",
    "figure.toolbar_location = None\n",
    "figure.yaxis.visible = None\n",
    "figure.rect(x=x, y=0.5, color=[\"red\", \"green\", \"blue\"], width=dx, height=1.0)\n",
    "bokeh.plotting.show(figure)"
   ]
  },
  {
   "cell_type": "code",
   "execution_count": 134,
   "metadata": {},
   "outputs": [
    {
     "data": {
      "text/html": [
       "\n",
       "<div class=\"bk-root\">\n",
       "    <div class=\"bk-plotdiv\" id=\"05e51ab0-075c-41b1-bc07-1a6f68f9d7a8\"></div>\n",
       "</div>"
      ]
     },
     "metadata": {},
     "output_type": "display_data"
    },
    {
     "data": {
      "application/javascript": [
       "(function(root) {\n",
       "  function embed_document(root) {\n",
       "    \n",
       "  var docs_json = {\"875eab76-7064-4a5e-a82c-c131b9062008\":{\"roots\":{\"references\":[{\"attributes\":{},\"id\":\"925801f0-72d9-4756-8982-11226157f075\",\"type\":\"LinearScale\"},{\"attributes\":{\"fill_color\":{\"field\":\"fill_color\"},\"height\":{\"units\":\"data\",\"value\":1.0},\"line_color\":{\"field\":\"line_color\"},\"width\":{\"units\":\"data\",\"value\":0.5},\"x\":{\"field\":\"x\"},\"y\":{\"value\":0.5}},\"id\":\"62376cc1-d37b-4d74-873e-2003cec43133\",\"type\":\"Rect\"},{\"attributes\":{\"formatter\":{\"id\":\"1cf7464b-0ee3-4769-a594-d5e01f674075\",\"type\":\"BasicTickFormatter\"},\"plot\":{\"id\":\"e32cfba9-7a5c-4f9e-a0b4-1a1951578e27\",\"subtype\":\"Figure\",\"type\":\"Plot\"},\"ticker\":{\"id\":\"713f875c-c420-46e4-9301-46caa5165424\",\"type\":\"BasicTicker\"}},\"id\":\"2db83898-c4fd-47f8-b9e2-2f0c9b9d8f71\",\"type\":\"LinearAxis\"},{\"attributes\":{\"plot\":{\"id\":\"e32cfba9-7a5c-4f9e-a0b4-1a1951578e27\",\"subtype\":\"Figure\",\"type\":\"Plot\"},\"ticker\":{\"id\":\"713f875c-c420-46e4-9301-46caa5165424\",\"type\":\"BasicTicker\"}},\"id\":\"0ea89bed-0ca1-4482-ae0c-bca2a54fd7de\",\"type\":\"Grid\"},{\"attributes\":{\"formatter\":{\"id\":\"5e8617a4-758c-4acb-b061-d9baf3f46789\",\"type\":\"BasicTickFormatter\"},\"plot\":{\"id\":\"e32cfba9-7a5c-4f9e-a0b4-1a1951578e27\",\"subtype\":\"Figure\",\"type\":\"Plot\"},\"ticker\":{\"id\":\"3312e0b3-cd71-4bb7-a6ea-eb2f2ce87d29\",\"type\":\"BasicTicker\"},\"visible\":null},\"id\":\"aaafe8f4-7e0a-48f5-9cd3-0360a1cddbbb\",\"type\":\"LinearAxis\"},{\"attributes\":{},\"id\":\"3312e0b3-cd71-4bb7-a6ea-eb2f2ce87d29\",\"type\":\"BasicTicker\"},{\"attributes\":{\"dimension\":1,\"plot\":{\"id\":\"e32cfba9-7a5c-4f9e-a0b4-1a1951578e27\",\"subtype\":\"Figure\",\"type\":\"Plot\"},\"ticker\":{\"id\":\"3312e0b3-cd71-4bb7-a6ea-eb2f2ce87d29\",\"type\":\"BasicTicker\"}},\"id\":\"ba17f71c-1223-4aa8-b18a-5e817d9f3709\",\"type\":\"Grid\"},{\"attributes\":{},\"id\":\"5e8617a4-758c-4acb-b061-d9baf3f46789\",\"type\":\"BasicTickFormatter\"},{\"attributes\":{\"fill_alpha\":{\"value\":0.1},\"fill_color\":{\"value\":\"#1f77b4\"},\"height\":{\"units\":\"data\",\"value\":1.0},\"line_alpha\":{\"value\":0.1},\"line_color\":{\"value\":\"#1f77b4\"},\"width\":{\"units\":\"data\",\"value\":0.5},\"x\":{\"field\":\"x\"},\"y\":{\"value\":0.5}},\"id\":\"77b3da2a-ba4f-4d9c-ae02-b2a4a418d6df\",\"type\":\"Rect\"},{\"attributes\":{\"data_source\":{\"id\":\"b1ddd90c-0f65-4f5e-864e-2769f6b890e6\",\"type\":\"ColumnDataSource\"},\"glyph\":{\"id\":\"62376cc1-d37b-4d74-873e-2003cec43133\",\"type\":\"Rect\"},\"hover_glyph\":null,\"muted_glyph\":null,\"nonselection_glyph\":{\"id\":\"77b3da2a-ba4f-4d9c-ae02-b2a4a418d6df\",\"type\":\"Rect\"},\"selection_glyph\":null,\"view\":{\"id\":\"a53bfc81-09b8-4560-bcf9-bcc474d68a6b\",\"type\":\"CDSView\"}},\"id\":\"f9382817-0c0c-4bc7-8a47-9549240c3288\",\"type\":\"GlyphRenderer\"},{\"attributes\":{\"active_drag\":\"auto\",\"active_inspect\":\"auto\",\"active_scroll\":\"auto\",\"active_tap\":\"auto\"},\"id\":\"87579d61-98a7-4f4a-ab3b-e00b5d5fb213\",\"type\":\"Toolbar\"},{\"attributes\":{\"below\":[{\"id\":\"2db83898-c4fd-47f8-b9e2-2f0c9b9d8f71\",\"type\":\"LinearAxis\"}],\"left\":[{\"id\":\"aaafe8f4-7e0a-48f5-9cd3-0360a1cddbbb\",\"type\":\"LinearAxis\"}],\"outline_line_color\":{\"value\":\"black\"},\"outline_line_width\":{\"value\":0},\"plot_height\":50,\"plot_width\":500,\"renderers\":[{\"id\":\"2db83898-c4fd-47f8-b9e2-2f0c9b9d8f71\",\"type\":\"LinearAxis\"},{\"id\":\"0ea89bed-0ca1-4482-ae0c-bca2a54fd7de\",\"type\":\"Grid\"},{\"id\":\"aaafe8f4-7e0a-48f5-9cd3-0360a1cddbbb\",\"type\":\"LinearAxis\"},{\"id\":\"ba17f71c-1223-4aa8-b18a-5e817d9f3709\",\"type\":\"Grid\"},{\"id\":\"f9382817-0c0c-4bc7-8a47-9549240c3288\",\"type\":\"GlyphRenderer\"}],\"title\":{\"id\":\"55db4b9c-b39f-482a-aaab-8b7d666238b3\",\"type\":\"Title\"},\"toolbar\":{\"id\":\"87579d61-98a7-4f4a-ab3b-e00b5d5fb213\",\"type\":\"Toolbar\"},\"toolbar_location\":null,\"x_range\":{\"id\":\"6801b4bc-35f0-4c62-90ac-8f40b693adea\",\"type\":\"Range1d\"},\"x_scale\":{\"id\":\"491abd2a-c32d-4374-b535-849406dcec17\",\"type\":\"LinearScale\"},\"y_range\":{\"id\":\"e1a49b5d-10f5-4d4c-9dd0-5845323fbb87\",\"type\":\"Range1d\"},\"y_scale\":{\"id\":\"925801f0-72d9-4756-8982-11226157f075\",\"type\":\"LinearScale\"}},\"id\":\"e32cfba9-7a5c-4f9e-a0b4-1a1951578e27\",\"subtype\":\"Figure\",\"type\":\"Plot\"},{\"attributes\":{\"callback\":null,\"column_names\":[\"x\",\"fill_color\",\"line_color\"],\"data\":{\"fill_color\":[\"red\",\"green\",\"blue\"],\"line_color\":[\"red\",\"green\",\"blue\"],\"x\":{\"__ndarray__\":\"AAAAAAAAAAAAAAAAAADgPwAAAAAAAPA/\",\"dtype\":\"float64\",\"shape\":[3]}},\"selected\":null,\"selection_policy\":null},\"id\":\"b1ddd90c-0f65-4f5e-864e-2769f6b890e6\",\"type\":\"ColumnDataSource\"},{\"attributes\":{\"source\":{\"id\":\"b1ddd90c-0f65-4f5e-864e-2769f6b890e6\",\"type\":\"ColumnDataSource\"}},\"id\":\"a53bfc81-09b8-4560-bcf9-bcc474d68a6b\",\"type\":\"CDSView\"},{\"attributes\":{},\"id\":\"713f875c-c420-46e4-9301-46caa5165424\",\"type\":\"BasicTicker\"},{\"attributes\":{\"callback\":null},\"id\":\"6801b4bc-35f0-4c62-90ac-8f40b693adea\",\"type\":\"Range1d\"},{\"attributes\":{\"plot\":null,\"text\":\"\"},\"id\":\"55db4b9c-b39f-482a-aaab-8b7d666238b3\",\"type\":\"Title\"},{\"attributes\":{\"callback\":null},\"id\":\"e1a49b5d-10f5-4d4c-9dd0-5845323fbb87\",\"type\":\"Range1d\"},{\"attributes\":{},\"id\":\"1cf7464b-0ee3-4769-a594-d5e01f674075\",\"type\":\"BasicTickFormatter\"},{\"attributes\":{},\"id\":\"491abd2a-c32d-4374-b535-849406dcec17\",\"type\":\"LinearScale\"}],\"root_ids\":[\"e32cfba9-7a5c-4f9e-a0b4-1a1951578e27\"]},\"title\":\"Bokeh Application\",\"version\":\"0.12.15\"}};\n",
       "  var render_items = [{\"docid\":\"875eab76-7064-4a5e-a82c-c131b9062008\",\"elementid\":\"05e51ab0-075c-41b1-bc07-1a6f68f9d7a8\",\"modelid\":\"e32cfba9-7a5c-4f9e-a0b4-1a1951578e27\"}];\n",
       "  root.Bokeh.embed.embed_items_notebook(docs_json, render_items);\n",
       "\n",
       "  }\n",
       "  if (root.Bokeh !== undefined) {\n",
       "    embed_document(root);\n",
       "  } else {\n",
       "    var attempts = 0;\n",
       "    var timer = setInterval(function(root) {\n",
       "      if (root.Bokeh !== undefined) {\n",
       "        embed_document(root);\n",
       "        clearInterval(timer);\n",
       "      }\n",
       "      attempts++;\n",
       "      if (attempts > 100) {\n",
       "        console.log(\"Bokeh: ERROR: Unable to run BokehJS code because BokehJS library is missing\")\n",
       "        clearInterval(timer);\n",
       "      }\n",
       "    }, 10, root)\n",
       "  }\n",
       "})(window);"
      ],
      "application/vnd.bokehjs_exec.v0+json": ""
     },
     "metadata": {
      "application/vnd.bokehjs_exec.v0+json": {
       "id": "e32cfba9-7a5c-4f9e-a0b4-1a1951578e27"
      }
     },
     "output_type": "display_data"
    }
   ],
   "source": [
    "figure.outline_line_color = \"black\"\n",
    "figure.outline_line_width = 0\n",
    "bokeh.plotting.show(figure)"
   ]
  },
  {
   "cell_type": "code",
   "execution_count": 136,
   "metadata": {},
   "outputs": [
    {
     "data": {
      "image/png": "[encoded data removed]",
      "text/plain": [
       "<Figure size 432x288 with 1 Axes>"
      ]
     },
     "metadata": {},
     "output_type": "display_data"
    }
   ],
   "source": [
    "# Make a realistic color bar\n",
    "x = np.linspace(0, 1, 100)\n",
    "y = x\n",
    "X, Y = np.meshgrid(x, y)\n",
    "Z = X + Y\n",
    "quad_mesh = pylab.pcolormesh(X, Y, Z)"
   ]
  },
  {
   "cell_type": "code",
   "execution_count": 137,
   "metadata": {},
   "outputs": [],
   "source": [
    "color_map = quad_mesh.get_cmap()"
   ]
  },
  {
   "cell_type": "code",
   "execution_count": 189,
   "metadata": {},
   "outputs": [
    {
     "data": {
      "text/html": [
       "\n",
       "<div class=\"bk-root\">\n",
       "    <div class=\"bk-plotdiv\" id=\"9a796d3a-326b-407e-ac60-54c51f63cfec\"></div>\n",
       "</div>"
      ]
     },
     "metadata": {},
     "output_type": "display_data"
    },
    {
     "data": {
      "application/javascript": [
       "(function(root) {\n",
       "  function embed_document(root) {\n",
       "    \n",
       "  var docs_json = {\"b4d4ee4a-4aa2-4d7b-b7a0-8c17df360b35\":{\"roots\":{\"references\":[{\"attributes\":{\"dimension\":1,\"plot\":{\"id\":\"9aa10574-c5e9-4d65-9f9f-dcf8d73c95d7\",\"subtype\":\"Figure\",\"type\":\"Plot\"},\"ticker\":{\"id\":\"b39c5860-5697-46a6-a8f2-05c837d135f5\",\"type\":\"BasicTicker\"}},\"id\":\"96ef5fb6-1b5a-4197-9aec-afc90191e3ad\",\"type\":\"Grid\"},{\"attributes\":{},\"id\":\"b309773f-41b5-4e1d-b886-2d47235432c6\",\"type\":\"LinearScale\"},{\"attributes\":{\"callback\":null,\"tooltips\":[[\"value\",\"$x\"],[\"color\",\"$color[hex, swatch]:fill_color\"]]},\"id\":\"f3413129-3e09-405c-9b10-cbe3889e0746\",\"type\":\"HoverTool\"},{\"attributes\":{\"callback\":null},\"id\":\"e2abb64b-b8d3-4244-b613-5efb002f710d\",\"type\":\"DataRange1d\"},{\"attributes\":{\"active_drag\":\"auto\",\"active_inspect\":\"auto\",\"active_scroll\":\"auto\",\"active_tap\":\"auto\",\"tools\":[{\"id\":\"f3413129-3e09-405c-9b10-cbe3889e0746\",\"type\":\"HoverTool\"}]},\"id\":\"417c7f7d-eda6-49bd-8596-16df07d35570\",\"type\":\"Toolbar\"},{\"attributes\":{\"below\":[{\"id\":\"22e871cb-0504-47cf-bedb-261a557b471e\",\"type\":\"LinearAxis\"}],\"left\":[{\"id\":\"ae92a042-9aac-4acc-b8ba-546fd43ca6e5\",\"type\":\"LinearAxis\"}],\"min_border\":20,\"plot_height\":60,\"plot_width\":500,\"renderers\":[{\"id\":\"22e871cb-0504-47cf-bedb-261a557b471e\",\"type\":\"LinearAxis\"},{\"id\":\"b0169e24-875f-457a-82b9-f376264938cc\",\"type\":\"Grid\"},{\"id\":\"ae92a042-9aac-4acc-b8ba-546fd43ca6e5\",\"type\":\"LinearAxis\"},{\"id\":\"96ef5fb6-1b5a-4197-9aec-afc90191e3ad\",\"type\":\"Grid\"},{\"id\":\"fca619fd-2ee4-4ae7-832f-827cf21a8172\",\"type\":\"GlyphRenderer\"}],\"title\":{\"id\":\"970371e7-36a2-4efe-ae7d-655495072b2e\",\"type\":\"Title\"},\"toolbar\":{\"id\":\"417c7f7d-eda6-49bd-8596-16df07d35570\",\"type\":\"Toolbar\"},\"toolbar_location\":null,\"x_range\":{\"id\":\"37704d15-0abf-47cc-9411-46c87bfb78a8\",\"type\":\"Range1d\"},\"x_scale\":{\"id\":\"de32aa8c-5954-4422-8fcf-7dc243205f92\",\"type\":\"LinearScale\"},\"y_range\":{\"id\":\"e2abb64b-b8d3-4244-b613-5efb002f710d\",\"type\":\"DataRange1d\"},\"y_scale\":{\"id\":\"b309773f-41b5-4e1d-b886-2d47235432c6\",\"type\":\"LinearScale\"}},\"id\":\"9aa10574-c5e9-4d65-9f9f-dcf8d73c95d7\",\"subtype\":\"Figure\",\"type\":\"Plot\"},{\"attributes\":{\"fill_alpha\":{\"value\":0.1},\"fill_color\":{\"value\":\"#1f77b4\"},\"height\":{\"units\":\"data\",\"value\":1},\"line_alpha\":{\"value\":0.1},\"line_color\":{\"value\":\"#1f77b4\"},\"width\":{\"units\":\"data\",\"value\":0.07843137254901933},\"x\":{\"field\":\"x\"},\"y\":{\"value\":0.5}},\"id\":\"9dd07760-7cdb-4f48-b4c0-b22abdcaa34a\",\"type\":\"Rect\"},{\"attributes\":{\"formatter\":{\"id\":\"f1418e34-1b3a-4961-a8e2-37bee688804e\",\"type\":\"BasicTickFormatter\"},\"plot\":{\"id\":\"9aa10574-c5e9-4d65-9f9f-dcf8d73c95d7\",\"subtype\":\"Figure\",\"type\":\"Plot\"},\"ticker\":{\"id\":\"1401767a-42fa-4691-8fa5-14a6c2ec2a31\",\"type\":\"BasicTicker\"}},\"id\":\"22e871cb-0504-47cf-bedb-261a557b471e\",\"type\":\"LinearAxis\"},{\"attributes\":{},\"id\":\"de32aa8c-5954-4422-8fcf-7dc243205f92\",\"type\":\"LinearScale\"},{\"attributes\":{},\"id\":\"f1418e34-1b3a-4961-a8e2-37bee688804e\",\"type\":\"BasicTickFormatter\"},{\"attributes\":{\"fill_color\":{\"field\":\"fill_color\"},\"height\":{\"units\":\"data\",\"value\":1},\"line_color\":{\"field\":\"line_color\"},\"width\":{\"units\":\"data\",\"value\":0.07843137254901933},\"x\":{\"field\":\"x\"},\"y\":{\"value\":0.5}},\"id\":\"9e40fb87-d62b-4f8d-8438-0f4e404aca67\",\"type\":\"Rect\"},{\"attributes\":{\"plot\":{\"id\":\"9aa10574-c5e9-4d65-9f9f-dcf8d73c95d7\",\"subtype\":\"Figure\",\"type\":\"Plot\"},\"ticker\":{\"id\":\"1401767a-42fa-4691-8fa5-14a6c2ec2a31\",\"type\":\"BasicTicker\"}},\"id\":\"b0169e24-875f-457a-82b9-f376264938cc\",\"type\":\"Grid\"},{\"attributes\":{\"data_source\":{\"id\":\"1ba410f3-1dd8-420a-ae28-d4d39a62d310\",\"type\":\"ColumnDataSource\"},\"glyph\":{\"id\":\"9e40fb87-d62b-4f8d-8438-0f4e404aca67\",\"type\":\"Rect\"},\"hover_glyph\":null,\"muted_glyph\":null,\"nonselection_glyph\":{\"id\":\"9dd07760-7cdb-4f48-b4c0-b22abdcaa34a\",\"type\":\"Rect\"},\"selection_glyph\":null,\"view\":{\"id\":\"9b25e110-ccd8-46b4-a604-821a3d42ce46\",\"type\":\"CDSView\"}},\"id\":\"fca619fd-2ee4-4ae7-832f-827cf21a8172\",\"type\":\"GlyphRenderer\"},{\"attributes\":{},\"id\":\"b39c5860-5697-46a6-a8f2-05c837d135f5\",\"type\":\"BasicTicker\"},{\"attributes\":{},\"id\":\"1401767a-42fa-4691-8fa5-14a6c2ec2a31\",\"type\":\"BasicTicker\"},{\"attributes\":{\"formatter\":{\"id\":\"1fb5ddb6-17e9-4fdd-8bd2-9beb26dc6357\",\"type\":\"BasicTickFormatter\"},\"plot\":{\"id\":\"9aa10574-c5e9-4d65-9f9f-dcf8d73c95d7\",\"subtype\":\"Figure\",\"type\":\"Plot\"},\"ticker\":{\"id\":\"b39c5860-5697-46a6-a8f2-05c837d135f5\",\"type\":\"BasicTicker\"},\"visible\":false},\"id\":\"ae92a042-9aac-4acc-b8ba-546fd43ca6e5\",\"type\":\"LinearAxis\"},{\"attributes\":{\"callback\":null,\"end\":10,\"start\":-10},\"id\":\"37704d15-0abf-47cc-9411-46c87bfb78a8\",\"type\":\"Range1d\"},{\"attributes\":{},\"id\":\"1fb5ddb6-17e9-4fdd-8bd2-9beb26dc6357\",\"type\":\"BasicTickFormatter\"},{\"attributes\":{\"source\":{\"id\":\"1ba410f3-1dd8-420a-ae28-d4d39a62d310\",\"type\":\"ColumnDataSource\"}},\"id\":\"9b25e110-ccd8-46b4-a604-821a3d42ce46\",\"type\":\"CDSView\"},{\"attributes\":{\"callback\":null,\"column_names\":[\"x\",\"fill_color\",\"line_color\"],\"data\":{\"fill_color\":[\"#440154\",\"#440255\",\"#440357\",\"#450558\",\"#45065a\",\"#45085b\",\"#46095c\",\"#460b5e\",\"#460c5f\",\"#460e61\",\"#470f62\",\"#471163\",\"#471265\",\"#471466\",\"#471567\",\"#471669\",\"#47186a\",\"#48196b\",\"#481a6c\",\"#481c6e\",\"#481d6f\",\"#481e70\",\"#482071\",\"#482172\",\"#482273\",\"#482374\",\"#472575\",\"#472676\",\"#472777\",\"#472878\",\"#472a79\",\"#472b7a\",\"#472c7b\",\"#462d7c\",\"#462f7c\",\"#46307d\",\"#46317e\",\"#45327f\",\"#45347f\",\"#453580\",\"#453681\",\"#443781\",\"#443982\",\"#433a83\",\"#433b83\",\"#433c84\",\"#423d84\",\"#423e85\",\"#424085\",\"#414186\",\"#414286\",\"#404387\",\"#404487\",\"#3f4587\",\"#3f4788\",\"#3e4888\",\"#3e4989\",\"#3d4a89\",\"#3d4b89\",\"#3d4c89\",\"#3c4d8a\",\"#3c4e8a\",\"#3b508a\",\"#3b518a\",\"#3a528b\",\"#3a538b\",\"#39548b\",\"#39558b\",\"#38568b\",\"#38578c\",\"#37588c\",\"#37598c\",\"#365a8c\",\"#365b8c\",\"#355c8c\",\"#355d8c\",\"#345e8d\",\"#345f8d\",\"#33608d\",\"#33618d\",\"#32628d\",\"#32638d\",\"#31648d\",\"#31658d\",\"#31668d\",\"#30678d\",\"#30688d\",\"#2f698d\",\"#2f6a8d\",\"#2e6b8e\",\"#2e6c8e\",\"#2e6d8e\",\"#2d6e8e\",\"#2d6f8e\",\"#2c708e\",\"#2c718e\",\"#2c728e\",\"#2b738e\",\"#2b748e\",\"#2a758e\",\"#2a768e\",\"#2a778e\",\"#29788e\",\"#29798e\",\"#287a8e\",\"#287a8e\",\"#287b8e\",\"#277c8e\",\"#277d8e\",\"#277e8e\",\"#267f8e\",\"#26808e\",\"#26818e\",\"#25828e\",\"#25838d\",\"#24848d\",\"#24858d\",\"#24868d\",\"#23878d\",\"#23888d\",\"#23898d\",\"#22898d\",\"#228a8d\",\"#228b8d\",\"#218c8d\",\"#218d8c\",\"#218e8c\",\"#208f8c\",\"#20908c\",\"#20918c\",\"#1f928c\",\"#1f938b\",\"#1f948b\",\"#1f958b\",\"#1f968b\",\"#1e978a\",\"#1e988a\",\"#1e998a\",\"#1e998a\",\"#1e9a89\",\"#1e9b89\",\"#1e9c89\",\"#1e9d88\",\"#1e9e88\",\"#1e9f88\",\"#1ea087\",\"#1fa187\",\"#1fa286\",\"#1fa386\",\"#20a485\",\"#20a585\",\"#21a685\",\"#21a784\",\"#22a784\",\"#23a883\",\"#23a982\",\"#24aa82\",\"#25ab81\",\"#26ac81\",\"#27ad80\",\"#28ae7f\",\"#29af7f\",\"#2ab07e\",\"#2bb17d\",\"#2cb17d\",\"#2eb27c\",\"#2fb37b\",\"#30b47a\",\"#32b57a\",\"#33b679\",\"#35b778\",\"#36b877\",\"#38b976\",\"#39b976\",\"#3bba75\",\"#3dbb74\",\"#3ebc73\",\"#40bd72\",\"#42be71\",\"#44be70\",\"#45bf6f\",\"#47c06e\",\"#49c16d\",\"#4bc26c\",\"#4dc26b\",\"#4fc369\",\"#51c468\",\"#53c567\",\"#55c666\",\"#57c665\",\"#59c764\",\"#5bc862\",\"#5ec961\",\"#60c960\",\"#62ca5f\",\"#64cb5d\",\"#67cc5c\",\"#69cc5b\",\"#6bcd59\",\"#6dce58\",\"#70ce56\",\"#72cf55\",\"#74d054\",\"#77d052\",\"#79d151\",\"#7cd24f\",\"#7ed24e\",\"#81d34c\",\"#83d34b\",\"#86d449\",\"#88d547\",\"#8bd546\",\"#8dd644\",\"#90d643\",\"#92d741\",\"#95d73f\",\"#97d83e\",\"#9ad83c\",\"#9dd93a\",\"#9fd938\",\"#a2da37\",\"#a5da35\",\"#a7db33\",\"#aadb32\",\"#addc30\",\"#afdc2e\",\"#b2dd2c\",\"#b5dd2b\",\"#b7dd29\",\"#bade27\",\"#bdde26\",\"#bfdf24\",\"#c2df22\",\"#c5df21\",\"#c7e01f\",\"#cae01e\",\"#cde01d\",\"#cfe11c\",\"#d2e11b\",\"#d4e11a\",\"#d7e219\",\"#dae218\",\"#dce218\",\"#dfe318\",\"#e1e318\",\"#e4e318\",\"#e7e419\",\"#e9e419\",\"#ece41a\",\"#eee51b\",\"#f1e51c\",\"#f3e51e\",\"#f6e61f\",\"#f8e621\",\"#fae622\",\"#fde724\"],\"line_color\":[\"#440154\",\"#440255\",\"#440357\",\"#450558\",\"#45065a\",\"#45085b\",\"#46095c\",\"#460b5e\",\"#460c5f\",\"#460e61\",\"#470f62\",\"#471163\",\"#471265\",\"#471466\",\"#471567\",\"#471669\",\"#47186a\",\"#48196b\",\"#481a6c\",\"#481c6e\",\"#481d6f\",\"#481e70\",\"#482071\",\"#482172\",\"#482273\",\"#482374\",\"#472575\",\"#472676\",\"#472777\",\"#472878\",\"#472a79\",\"#472b7a\",\"#472c7b\",\"#462d7c\",\"#462f7c\",\"#46307d\",\"#46317e\",\"#45327f\",\"#45347f\",\"#453580\",\"#453681\",\"#443781\",\"#443982\",\"#433a83\",\"#433b83\",\"#433c84\",\"#423d84\",\"#423e85\",\"#424085\",\"#414186\",\"#414286\",\"#404387\",\"#404487\",\"#3f4587\",\"#3f4788\",\"#3e4888\",\"#3e4989\",\"#3d4a89\",\"#3d4b89\",\"#3d4c89\",\"#3c4d8a\",\"#3c4e8a\",\"#3b508a\",\"#3b518a\",\"#3a528b\",\"#3a538b\",\"#39548b\",\"#39558b\",\"#38568b\",\"#38578c\",\"#37588c\",\"#37598c\",\"#365a8c\",\"#365b8c\",\"#355c8c\",\"#355d8c\",\"#345e8d\",\"#345f8d\",\"#33608d\",\"#33618d\",\"#32628d\",\"#32638d\",\"#31648d\",\"#31658d\",\"#31668d\",\"#30678d\",\"#30688d\",\"#2f698d\",\"#2f6a8d\",\"#2e6b8e\",\"#2e6c8e\",\"#2e6d8e\",\"#2d6e8e\",\"#2d6f8e\",\"#2c708e\",\"#2c718e\",\"#2c728e\",\"#2b738e\",\"#2b748e\",\"#2a758e\",\"#2a768e\",\"#2a778e\",\"#29788e\",\"#29798e\",\"#287a8e\",\"#287a8e\",\"#287b8e\",\"#277c8e\",\"#277d8e\",\"#277e8e\",\"#267f8e\",\"#26808e\",\"#26818e\",\"#25828e\",\"#25838d\",\"#24848d\",\"#24858d\",\"#24868d\",\"#23878d\",\"#23888d\",\"#23898d\",\"#22898d\",\"#228a8d\",\"#228b8d\",\"#218c8d\",\"#218d8c\",\"#218e8c\",\"#208f8c\",\"#20908c\",\"#20918c\",\"#1f928c\",\"#1f938b\",\"#1f948b\",\"#1f958b\",\"#1f968b\",\"#1e978a\",\"#1e988a\",\"#1e998a\",\"#1e998a\",\"#1e9a89\",\"#1e9b89\",\"#1e9c89\",\"#1e9d88\",\"#1e9e88\",\"#1e9f88\",\"#1ea087\",\"#1fa187\",\"#1fa286\",\"#1fa386\",\"#20a485\",\"#20a585\",\"#21a685\",\"#21a784\",\"#22a784\",\"#23a883\",\"#23a982\",\"#24aa82\",\"#25ab81\",\"#26ac81\",\"#27ad80\",\"#28ae7f\",\"#29af7f\",\"#2ab07e\",\"#2bb17d\",\"#2cb17d\",\"#2eb27c\",\"#2fb37b\",\"#30b47a\",\"#32b57a\",\"#33b679\",\"#35b778\",\"#36b877\",\"#38b976\",\"#39b976\",\"#3bba75\",\"#3dbb74\",\"#3ebc73\",\"#40bd72\",\"#42be71\",\"#44be70\",\"#45bf6f\",\"#47c06e\",\"#49c16d\",\"#4bc26c\",\"#4dc26b\",\"#4fc369\",\"#51c468\",\"#53c567\",\"#55c666\",\"#57c665\",\"#59c764\",\"#5bc862\",\"#5ec961\",\"#60c960\",\"#62ca5f\",\"#64cb5d\",\"#67cc5c\",\"#69cc5b\",\"#6bcd59\",\"#6dce58\",\"#70ce56\",\"#72cf55\",\"#74d054\",\"#77d052\",\"#79d151\",\"#7cd24f\",\"#7ed24e\",\"#81d34c\",\"#83d34b\",\"#86d449\",\"#88d547\",\"#8bd546\",\"#8dd644\",\"#90d643\",\"#92d741\",\"#95d73f\",\"#97d83e\",\"#9ad83c\",\"#9dd93a\",\"#9fd938\",\"#a2da37\",\"#a5da35\",\"#a7db33\",\"#aadb32\",\"#addc30\",\"#afdc2e\",\"#b2dd2c\",\"#b5dd2b\",\"#b7dd29\",\"#bade27\",\"#bdde26\",\"#bfdf24\",\"#c2df22\",\"#c5df21\",\"#c7e01f\",\"#cae01e\",\"#cde01d\",\"#cfe11c\",\"#d2e11b\",\"#d4e11a\",\"#d7e219\",\"#dae218\",\"#dce218\",\"#dfe318\",\"#e1e318\",\"#e4e318\",\"#e7e419\",\"#e9e419\",\"#ece41a\",\"#eee51b\",\"#f1e51c\",\"#f3e51e\",\"#f6e61f\",\"#f8e621\",\"#fae622\",\"#fde724\"],\"x\":{\"__ndarray__\":\"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\",\"dtype\":\"float64\",\"shape\":[256]}},\"selected\":null,\"selection_policy\":null},\"id\":\"1ba410f3-1dd8-420a-ae28-d4d39a62d310\",\"type\":\"ColumnDataSource\"},{\"attributes\":{\"plot\":null,\"text\":\"\"},\"id\":\"970371e7-36a2-4efe-ae7d-655495072b2e\",\"type\":\"Title\"}],\"root_ids\":[\"9aa10574-c5e9-4d65-9f9f-dcf8d73c95d7\"]},\"title\":\"Bokeh Application\",\"version\":\"0.12.15\"}};\n",
       "  var render_items = [{\"docid\":\"b4d4ee4a-4aa2-4d7b-b7a0-8c17df360b35\",\"elementid\":\"9a796d3a-326b-407e-ac60-54c51f63cfec\",\"modelid\":\"9aa10574-c5e9-4d65-9f9f-dcf8d73c95d7\"}];\n",
       "  root.Bokeh.embed.embed_items_notebook(docs_json, render_items);\n",
       "\n",
       "  }\n",
       "  if (root.Bokeh !== undefined) {\n",
       "    embed_document(root);\n",
       "  } else {\n",
       "    var attempts = 0;\n",
       "    var timer = setInterval(function(root) {\n",
       "      if (root.Bokeh !== undefined) {\n",
       "        embed_document(root);\n",
       "        clearInterval(timer);\n",
       "      }\n",
       "      attempts++;\n",
       "      if (attempts > 100) {\n",
       "        console.log(\"Bokeh: ERROR: Unable to run BokehJS code because BokehJS library is missing\")\n",
       "        clearInterval(timer);\n",
       "      }\n",
       "    }, 10, root)\n",
       "  }\n",
       "})(window);"
      ],
      "application/vnd.bokehjs_exec.v0+json": ""
     },
     "metadata": {
      "application/vnd.bokehjs_exec.v0+json": {
       "id": "9aa10574-c5e9-4d65-9f9f-dcf8d73c95d7"
      }
     },
     "output_type": "display_data"
    }
   ],
   "source": [
    "x_min, x_max = -10, +10\n",
    "figure = bokeh.plotting.figure(tools=\"\", plot_width=500, plot_height=60, x_range=[x_min, x_max])\n",
    "figure.yaxis.visible = False\n",
    "figure.toolbar_location = None\n",
    "x = np.linspace(x_min, x_max, color_map.N)\n",
    "dx = x[1] - x[0]\n",
    "rgb_colors = [\"#{:02x}{:02x}{:02x}\".format(int(255 * r), int(255 * g), int(255 * b)) for r, g, b in color_map.colors]\n",
    "figure.rect(x=x, y=0.5, color=rgb_colors, height=1, width=dx)\n",
    "\n",
    "# Add some padding to the top to prevent tooltip clipping\n",
    "figure.min_border = 20\n",
    "\n",
    "# Hover tool tip\n",
    "hover = bokeh.models.HoverTool()\n",
    "hover.tooltips = [\n",
    "    (\"value\", \"$x\"),\n",
    "    (\"color\", \"$color[hex, swatch]:fill_color\")\n",
    "]\n",
    "figure.add_tools(hover)\n",
    "bokeh.plotting.show(figure)"
   ]
  },
  {
   "cell_type": "code",
   "execution_count": 192,
   "metadata": {},
   "outputs": [
    {
     "data": {
      "text/html": [
       "\n",
       "<div class=\"bk-root\">\n",
       "    <div class=\"bk-plotdiv\" id=\"4bcc1540-39e8-4648-9437-3e6356075f48\"></div>\n",
       "</div>"
      ]
     },
     "metadata": {},
     "output_type": "display_data"
    },
    {
     "data": {
      "application/javascript": [
       "(function(root) {\n",
       "  function embed_document(root) {\n",
       "    \n",
       "  var docs_json = {\"d4d1f101-a296-4472-a5fd-4fbac07d1aab\":{\"roots\":{\"references\":[{\"attributes\":{\"formatter\":{\"id\":\"cd87a81f-ef68-4e0d-ba15-7f1b528ca5a3\",\"type\":\"BasicTickFormatter\"},\"plot\":{\"id\":\"dbfc62d0-1d51-49ae-8351-714d8f898cfb\",\"subtype\":\"Figure\",\"type\":\"Plot\"},\"ticker\":{\"id\":\"0d6b2a7a-a6c2-4963-bd61-03e709d1f421\",\"type\":\"BasicTicker\"}},\"id\":\"ec6cd5c2-816a-4d30-8df7-3ce22a1030c4\",\"type\":\"LinearAxis\"},{\"attributes\":{\"below\":[{\"id\":\"ec6cd5c2-816a-4d30-8df7-3ce22a1030c4\",\"type\":\"LinearAxis\"}],\"left\":[{\"id\":\"4e54d376-595d-4fed-ac60-917d7ede1ea9\",\"type\":\"LinearAxis\"}],\"renderers\":[{\"id\":\"ec6cd5c2-816a-4d30-8df7-3ce22a1030c4\",\"type\":\"LinearAxis\"},{\"id\":\"6be51f55-b2ff-4b71-8238-a2597115056f\",\"type\":\"Grid\"},{\"id\":\"4e54d376-595d-4fed-ac60-917d7ede1ea9\",\"type\":\"LinearAxis\"},{\"id\":\"167b59cd-5db0-4813-a93a-f223413bb953\",\"type\":\"Grid\"},{\"id\":\"a3615535-c80c-4b75-82e9-399b3640df98\",\"type\":\"BoxAnnotation\"},{\"id\":\"52b7dcf7-a6fa-4fc5-aac2-9aa4ef3d6d30\",\"type\":\"GlyphRenderer\"}],\"title\":{\"id\":\"d7e3d98f-3505-4c4b-908f-e2d158dbefd2\",\"type\":\"Title\"},\"toolbar\":{\"id\":\"e7a75ab3-936e-43cf-8077-f591b702ba45\",\"type\":\"Toolbar\"},\"x_range\":{\"id\":\"d6053fad-6afb-41b7-b07a-1a1029318bc5\",\"type\":\"DataRange1d\"},\"x_scale\":{\"id\":\"f1f3b6e8-485b-430f-b187-a22cb47431d9\",\"type\":\"LinearScale\"},\"y_range\":{\"id\":\"c57eef79-f1ef-4e5f-a9f7-4da04a49f110\",\"type\":\"DataRange1d\"},\"y_scale\":{\"id\":\"a0acf3f6-97e1-467f-89cf-1efdd91ada42\",\"type\":\"LinearScale\"}},\"id\":\"dbfc62d0-1d51-49ae-8351-714d8f898cfb\",\"subtype\":\"Figure\",\"type\":\"Plot\"},{\"attributes\":{\"active_drag\":\"auto\",\"active_inspect\":\"auto\",\"active_scroll\":\"auto\",\"active_tap\":\"auto\",\"tools\":[{\"id\":\"a0d9db1a-3508-42c4-8449-bb9e09acd10f\",\"type\":\"PanTool\"},{\"id\":\"e516459d-01de-49cf-8343-297d5dbd7f21\",\"type\":\"WheelZoomTool\"},{\"id\":\"7b6aa65f-bbb6-42e0-bec0-fbe05630f5e7\",\"type\":\"BoxZoomTool\"},{\"id\":\"e5cd2367-6589-4427-ae65-0d08aa67ab19\",\"type\":\"SaveTool\"},{\"id\":\"903cfa44-1ca0-4bff-bfe5-0c40bd687d24\",\"type\":\"ResetTool\"},{\"id\":\"2cba685c-d4c6-40e4-ba8d-c73ecb22a78b\",\"type\":\"HelpTool\"}]},\"id\":\"e7a75ab3-936e-43cf-8077-f591b702ba45\",\"type\":\"Toolbar\"},{\"attributes\":{\"formatter\":{\"id\":\"f710d417-8373-4b0d-ba25-7adba4848cc5\",\"type\":\"BasicTickFormatter\"},\"plot\":{\"id\":\"dbfc62d0-1d51-49ae-8351-714d8f898cfb\",\"subtype\":\"Figure\",\"type\":\"Plot\"},\"ticker\":{\"id\":\"2ce213c8-ba0c-4b74-a2fc-3bbb2adb05d4\",\"type\":\"BasicTicker\"}},\"id\":\"4e54d376-595d-4fed-ac60-917d7ede1ea9\",\"type\":\"LinearAxis\"},{\"attributes\":{\"overlay\":{\"id\":\"a3615535-c80c-4b75-82e9-399b3640df98\",\"type\":\"BoxAnnotation\"}},\"id\":\"7b6aa65f-bbb6-42e0-bec0-fbe05630f5e7\",\"type\":\"BoxZoomTool\"},{\"attributes\":{},\"id\":\"e5cd2367-6589-4427-ae65-0d08aa67ab19\",\"type\":\"SaveTool\"},{\"attributes\":{\"fill_color\":{\"field\":\"color\"},\"height\":{\"units\":\"data\",\"value\":1},\"line_color\":{\"field\":\"color\"},\"width\":{\"units\":\"data\",\"value\":0.07843137254901933},\"x\":{\"field\":\"x\"},\"y\":{\"value\":0.5}},\"id\":\"6bb48ff2-3077-4e9f-aafb-efc05c725e10\",\"type\":\"Rect\"},{\"attributes\":{\"source\":{\"id\":\"484220af-3c7b-4a68-844d-da0a86a78a66\",\"type\":\"ColumnDataSource\"}},\"id\":\"495272a2-bbb8-4ea9-bd3d-f290b0d20968\",\"type\":\"CDSView\"},{\"attributes\":{\"callback\":null,\"column_names\":[\"x\",\"color\"],\"data\":{\"color\":[\"#440154\",\"#440255\",\"#440357\",\"#450558\",\"#45065a\",\"#45085b\",\"#46095c\",\"#460b5e\",\"#460c5f\",\"#460e61\",\"#470f62\",\"#471163\",\"#471265\",\"#471466\",\"#471567\",\"#471669\",\"#47186a\",\"#48196b\",\"#481a6c\",\"#481c6e\",\"#481d6f\",\"#481e70\",\"#482071\",\"#482172\",\"#482273\",\"#482374\",\"#472575\",\"#472676\",\"#472777\",\"#472878\",\"#472a79\",\"#472b7a\",\"#472c7b\",\"#462d7c\",\"#462f7c\",\"#46307d\",\"#46317e\",\"#45327f\",\"#45347f\",\"#453580\",\"#453681\",\"#443781\",\"#443982\",\"#433a83\",\"#433b83\",\"#433c84\",\"#423d84\",\"#423e85\",\"#424085\",\"#414186\",\"#414286\",\"#404387\",\"#404487\",\"#3f4587\",\"#3f4788\",\"#3e4888\",\"#3e4989\",\"#3d4a89\",\"#3d4b89\",\"#3d4c89\",\"#3c4d8a\",\"#3c4e8a\",\"#3b508a\",\"#3b518a\",\"#3a528b\",\"#3a538b\",\"#39548b\",\"#39558b\",\"#38568b\",\"#38578c\",\"#37588c\",\"#37598c\",\"#365a8c\",\"#365b8c\",\"#355c8c\",\"#355d8c\",\"#345e8d\",\"#345f8d\",\"#33608d\",\"#33618d\",\"#32628d\",\"#32638d\",\"#31648d\",\"#31658d\",\"#31668d\",\"#30678d\",\"#30688d\",\"#2f698d\",\"#2f6a8d\",\"#2e6b8e\",\"#2e6c8e\",\"#2e6d8e\",\"#2d6e8e\",\"#2d6f8e\",\"#2c708e\",\"#2c718e\",\"#2c728e\",\"#2b738e\",\"#2b748e\",\"#2a758e\",\"#2a768e\",\"#2a778e\",\"#29788e\",\"#29798e\",\"#287a8e\",\"#287a8e\",\"#287b8e\",\"#277c8e\",\"#277d8e\",\"#277e8e\",\"#267f8e\",\"#26808e\",\"#26818e\",\"#25828e\",\"#25838d\",\"#24848d\",\"#24858d\",\"#24868d\",\"#23878d\",\"#23888d\",\"#23898d\",\"#22898d\",\"#228a8d\",\"#228b8d\",\"#218c8d\",\"#218d8c\",\"#218e8c\",\"#208f8c\",\"#20908c\",\"#20918c\",\"#1f928c\",\"#1f938b\",\"#1f948b\",\"#1f958b\",\"#1f968b\",\"#1e978a\",\"#1e988a\",\"#1e998a\",\"#1e998a\",\"#1e9a89\",\"#1e9b89\",\"#1e9c89\",\"#1e9d88\",\"#1e9e88\",\"#1e9f88\",\"#1ea087\",\"#1fa187\",\"#1fa286\",\"#1fa386\",\"#20a485\",\"#20a585\",\"#21a685\",\"#21a784\",\"#22a784\",\"#23a883\",\"#23a982\",\"#24aa82\",\"#25ab81\",\"#26ac81\",\"#27ad80\",\"#28ae7f\",\"#29af7f\",\"#2ab07e\",\"#2bb17d\",\"#2cb17d\",\"#2eb27c\",\"#2fb37b\",\"#30b47a\",\"#32b57a\",\"#33b679\",\"#35b778\",\"#36b877\",\"#38b976\",\"#39b976\",\"#3bba75\",\"#3dbb74\",\"#3ebc73\",\"#40bd72\",\"#42be71\",\"#44be70\",\"#45bf6f\",\"#47c06e\",\"#49c16d\",\"#4bc26c\",\"#4dc26b\",\"#4fc369\",\"#51c468\",\"#53c567\",\"#55c666\",\"#57c665\",\"#59c764\",\"#5bc862\",\"#5ec961\",\"#60c960\",\"#62ca5f\",\"#64cb5d\",\"#67cc5c\",\"#69cc5b\",\"#6bcd59\",\"#6dce58\",\"#70ce56\",\"#72cf55\",\"#74d054\",\"#77d052\",\"#79d151\",\"#7cd24f\",\"#7ed24e\",\"#81d34c\",\"#83d34b\",\"#86d449\",\"#88d547\",\"#8bd546\",\"#8dd644\",\"#90d643\",\"#92d741\",\"#95d73f\",\"#97d83e\",\"#9ad83c\",\"#9dd93a\",\"#9fd938\",\"#a2da37\",\"#a5da35\",\"#a7db33\",\"#aadb32\",\"#addc30\",\"#afdc2e\",\"#b2dd2c\",\"#b5dd2b\",\"#b7dd29\",\"#bade27\",\"#bdde26\",\"#bfdf24\",\"#c2df22\",\"#c5df21\",\"#c7e01f\",\"#cae01e\",\"#cde01d\",\"#cfe11c\",\"#d2e11b\",\"#d4e11a\",\"#d7e219\",\"#dae218\",\"#dce218\",\"#dfe318\",\"#e1e318\",\"#e4e318\",\"#e7e419\",\"#e9e419\",\"#ece41a\",\"#eee51b\",\"#f1e51c\",\"#f3e51e\",\"#f6e61f\",\"#f8e621\",\"#fae622\",\"#fde724\"],\"x\":{\"__ndarray__\":\"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\",\"dtype\":\"float64\",\"shape\":[256]}},\"selected\":null,\"selection_policy\":null},\"id\":\"484220af-3c7b-4a68-844d-da0a86a78a66\",\"type\":\"ColumnDataSource\"},{\"attributes\":{\"fill_alpha\":{\"value\":0.1},\"fill_color\":{\"value\":\"#1f77b4\"},\"height\":{\"units\":\"data\",\"value\":1},\"line_alpha\":{\"value\":0.1},\"line_color\":{\"value\":\"#1f77b4\"},\"width\":{\"units\":\"data\",\"value\":0.07843137254901933},\"x\":{\"field\":\"x\"},\"y\":{\"value\":0.5}},\"id\":\"f0bbeb7e-f846-48c0-b17e-4fe8761435a5\",\"type\":\"Rect\"},{\"attributes\":{},\"id\":\"a0acf3f6-97e1-467f-89cf-1efdd91ada42\",\"type\":\"LinearScale\"},{\"attributes\":{\"dimension\":1,\"plot\":{\"id\":\"dbfc62d0-1d51-49ae-8351-714d8f898cfb\",\"subtype\":\"Figure\",\"type\":\"Plot\"},\"ticker\":{\"id\":\"2ce213c8-ba0c-4b74-a2fc-3bbb2adb05d4\",\"type\":\"BasicTicker\"}},\"id\":\"167b59cd-5db0-4813-a93a-f223413bb953\",\"type\":\"Grid\"},{\"attributes\":{},\"id\":\"0d6b2a7a-a6c2-4963-bd61-03e709d1f421\",\"type\":\"BasicTicker\"},{\"attributes\":{\"plot\":{\"id\":\"dbfc62d0-1d51-49ae-8351-714d8f898cfb\",\"subtype\":\"Figure\",\"type\":\"Plot\"},\"ticker\":{\"id\":\"0d6b2a7a-a6c2-4963-bd61-03e709d1f421\",\"type\":\"BasicTicker\"}},\"id\":\"6be51f55-b2ff-4b71-8238-a2597115056f\",\"type\":\"Grid\"},{\"attributes\":{\"bottom_units\":\"screen\",\"fill_alpha\":{\"value\":0.5},\"fill_color\":{\"value\":\"lightgrey\"},\"left_units\":\"screen\",\"level\":\"overlay\",\"line_alpha\":{\"value\":1.0},\"line_color\":{\"value\":\"black\"},\"line_dash\":[4,4],\"line_width\":{\"value\":2},\"plot\":null,\"render_mode\":\"css\",\"right_units\":\"screen\",\"top_units\":\"screen\"},\"id\":\"a3615535-c80c-4b75-82e9-399b3640df98\",\"type\":\"BoxAnnotation\"},{\"attributes\":{\"callback\":null},\"id\":\"c57eef79-f1ef-4e5f-a9f7-4da04a49f110\",\"type\":\"DataRange1d\"},{\"attributes\":{\"callback\":null},\"id\":\"d6053fad-6afb-41b7-b07a-1a1029318bc5\",\"type\":\"DataRange1d\"},{\"attributes\":{\"data_source\":{\"id\":\"484220af-3c7b-4a68-844d-da0a86a78a66\",\"type\":\"ColumnDataSource\"},\"glyph\":{\"id\":\"6bb48ff2-3077-4e9f-aafb-efc05c725e10\",\"type\":\"Rect\"},\"hover_glyph\":null,\"muted_glyph\":null,\"nonselection_glyph\":{\"id\":\"f0bbeb7e-f846-48c0-b17e-4fe8761435a5\",\"type\":\"Rect\"},\"selection_glyph\":null,\"view\":{\"id\":\"495272a2-bbb8-4ea9-bd3d-f290b0d20968\",\"type\":\"CDSView\"}},\"id\":\"52b7dcf7-a6fa-4fc5-aac2-9aa4ef3d6d30\",\"type\":\"GlyphRenderer\"},{\"attributes\":{},\"id\":\"903cfa44-1ca0-4bff-bfe5-0c40bd687d24\",\"type\":\"ResetTool\"},{\"attributes\":{},\"id\":\"e516459d-01de-49cf-8343-297d5dbd7f21\",\"type\":\"WheelZoomTool\"},{\"attributes\":{},\"id\":\"2ce213c8-ba0c-4b74-a2fc-3bbb2adb05d4\",\"type\":\"BasicTicker\"},{\"attributes\":{\"plot\":null,\"text\":\"\"},\"id\":\"d7e3d98f-3505-4c4b-908f-e2d158dbefd2\",\"type\":\"Title\"},{\"attributes\":{},\"id\":\"2cba685c-d4c6-40e4-ba8d-c73ecb22a78b\",\"type\":\"HelpTool\"},{\"attributes\":{},\"id\":\"cd87a81f-ef68-4e0d-ba15-7f1b528ca5a3\",\"type\":\"BasicTickFormatter\"},{\"attributes\":{},\"id\":\"f710d417-8373-4b0d-ba25-7adba4848cc5\",\"type\":\"BasicTickFormatter\"},{\"attributes\":{},\"id\":\"f1f3b6e8-485b-430f-b187-a22cb47431d9\",\"type\":\"LinearScale\"},{\"attributes\":{},\"id\":\"a0d9db1a-3508-42c4-8449-bb9e09acd10f\",\"type\":\"PanTool\"}],\"root_ids\":[\"dbfc62d0-1d51-49ae-8351-714d8f898cfb\"]},\"title\":\"Bokeh Application\",\"version\":\"0.12.15\"}};\n",
       "  var render_items = [{\"docid\":\"d4d1f101-a296-4472-a5fd-4fbac07d1aab\",\"elementid\":\"4bcc1540-39e8-4648-9437-3e6356075f48\",\"modelid\":\"dbfc62d0-1d51-49ae-8351-714d8f898cfb\"}];\n",
       "  root.Bokeh.embed.embed_items_notebook(docs_json, render_items);\n",
       "\n",
       "  }\n",
       "  if (root.Bokeh !== undefined) {\n",
       "    embed_document(root);\n",
       "  } else {\n",
       "    var attempts = 0;\n",
       "    var timer = setInterval(function(root) {\n",
       "      if (root.Bokeh !== undefined) {\n",
       "        embed_document(root);\n",
       "        clearInterval(timer);\n",
       "      }\n",
       "      attempts++;\n",
       "      if (attempts > 100) {\n",
       "        console.log(\"Bokeh: ERROR: Unable to run BokehJS code because BokehJS library is missing\")\n",
       "        clearInterval(timer);\n",
       "      }\n",
       "    }, 10, root)\n",
       "  }\n",
       "})(window);"
      ],
      "application/vnd.bokehjs_exec.v0+json": ""
     },
     "metadata": {
      "application/vnd.bokehjs_exec.v0+json": {
       "id": "dbfc62d0-1d51-49ae-8351-714d8f898cfb"
      }
     },
     "output_type": "display_data"
    },
    {
     "data": {
      "text/plain": [
       "array([-10.        ,  -9.92156863,  -9.84313725,  -9.76470588,\n",
       "        -9.68627451,  -9.60784314,  -9.52941176,  -9.45098039,\n",
       "        -9.37254902,  -9.29411765,  -9.21568627,  -9.1372549 ,\n",
       "        -9.05882353,  -8.98039216,  -8.90196078,  -8.82352941,\n",
       "        -8.74509804,  -8.66666667,  -8.58823529,  -8.50980392,\n",
       "        -8.43137255,  -8.35294118,  -8.2745098 ,  -8.19607843,\n",
       "        -8.11764706,  -8.03921569,  -7.96078431,  -7.88235294,\n",
       "        -7.80392157,  -7.7254902 ,  -7.64705882,  -7.56862745,\n",
       "        -7.49019608,  -7.41176471,  -7.33333333,  -7.25490196,\n",
       "        -7.17647059,  -7.09803922,  -7.01960784,  -6.94117647,\n",
       "        -6.8627451 ,  -6.78431373,  -6.70588235,  -6.62745098,\n",
       "        -6.54901961,  -6.47058824,  -6.39215686,  -6.31372549,\n",
       "        -6.23529412,  -6.15686275,  -6.07843137,  -6.        ,\n",
       "        -5.92156863,  -5.84313725,  -5.76470588,  -5.68627451,\n",
       "        -5.60784314,  -5.52941176,  -5.45098039,  -5.37254902,\n",
       "        -5.29411765,  -5.21568627,  -5.1372549 ,  -5.05882353,\n",
       "        -4.98039216,  -4.90196078,  -4.82352941,  -4.74509804,\n",
       "        -4.66666667,  -4.58823529,  -4.50980392,  -4.43137255,\n",
       "        -4.35294118,  -4.2745098 ,  -4.19607843,  -4.11764706,\n",
       "        -4.03921569,  -3.96078431,  -3.88235294,  -3.80392157,\n",
       "        -3.7254902 ,  -3.64705882,  -3.56862745,  -3.49019608,\n",
       "        -3.41176471,  -3.33333333,  -3.25490196,  -3.17647059,\n",
       "        -3.09803922,  -3.01960784,  -2.94117647,  -2.8627451 ,\n",
       "        -2.78431373,  -2.70588235,  -2.62745098,  -2.54901961,\n",
       "        -2.47058824,  -2.39215686,  -2.31372549,  -2.23529412,\n",
       "        -2.15686275,  -2.07843137,  -2.        ,  -1.92156863,\n",
       "        -1.84313725,  -1.76470588,  -1.68627451,  -1.60784314,\n",
       "        -1.52941176,  -1.45098039,  -1.37254902,  -1.29411765,\n",
       "        -1.21568627,  -1.1372549 ,  -1.05882353,  -0.98039216,\n",
       "        -0.90196078,  -0.82352941,  -0.74509804,  -0.66666667,\n",
       "        -0.58823529,  -0.50980392,  -0.43137255,  -0.35294118,\n",
       "        -0.2745098 ,  -0.19607843,  -0.11764706,  -0.03921569,\n",
       "         0.03921569,   0.11764706,   0.19607843,   0.2745098 ,\n",
       "         0.35294118,   0.43137255,   0.50980392,   0.58823529,\n",
       "         0.66666667,   0.74509804,   0.82352941,   0.90196078,\n",
       "         0.98039216,   1.05882353,   1.1372549 ,   1.21568627,\n",
       "         1.29411765,   1.37254902,   1.45098039,   1.52941176,\n",
       "         1.60784314,   1.68627451,   1.76470588,   1.84313725,\n",
       "         1.92156863,   2.        ,   2.07843137,   2.15686275,\n",
       "         2.23529412,   2.31372549,   2.39215686,   2.47058824,\n",
       "         2.54901961,   2.62745098,   2.70588235,   2.78431373,\n",
       "         2.8627451 ,   2.94117647,   3.01960784,   3.09803922,\n",
       "         3.17647059,   3.25490196,   3.33333333,   3.41176471,\n",
       "         3.49019608,   3.56862745,   3.64705882,   3.7254902 ,\n",
       "         3.80392157,   3.88235294,   3.96078431,   4.03921569,\n",
       "         4.11764706,   4.19607843,   4.2745098 ,   4.35294118,\n",
       "         4.43137255,   4.50980392,   4.58823529,   4.66666667,\n",
       "         4.74509804,   4.82352941,   4.90196078,   4.98039216,\n",
       "         5.05882353,   5.1372549 ,   5.21568627,   5.29411765,\n",
       "         5.37254902,   5.45098039,   5.52941176,   5.60784314,\n",
       "         5.68627451,   5.76470588,   5.84313725,   5.92156863,\n",
       "         6.        ,   6.07843137,   6.15686275,   6.23529412,\n",
       "         6.31372549,   6.39215686,   6.47058824,   6.54901961,\n",
       "         6.62745098,   6.70588235,   6.78431373,   6.8627451 ,\n",
       "         6.94117647,   7.01960784,   7.09803922,   7.17647059,\n",
       "         7.25490196,   7.33333333,   7.41176471,   7.49019608,\n",
       "         7.56862745,   7.64705882,   7.7254902 ,   7.80392157,\n",
       "         7.88235294,   7.96078431,   8.03921569,   8.11764706,\n",
       "         8.19607843,   8.2745098 ,   8.35294118,   8.43137255,\n",
       "         8.50980392,   8.58823529,   8.66666667,   8.74509804,\n",
       "         8.82352941,   8.90196078,   8.98039216,   9.05882353,\n",
       "         9.1372549 ,   9.21568627,   9.29411765,   9.37254902,\n",
       "         9.45098039,   9.52941176,   9.60784314,   9.68627451,\n",
       "         9.76470588,   9.84313725,   9.92156863,  10.        ])"
      ]
     },
     "execution_count": 192,
     "metadata": {},
     "output_type": "execute_result"
    }
   ],
   "source": [
    "# Dynamic data\n",
    "source = bokeh.models.ColumnDataSource({\"x\": x, \"color\": rgb_colors})\n",
    "figure = bokeh.plotting.figure()\n",
    "figure.rect(x=\"x\", y=0.5, height=1, width=dx, color=\"color\", source=source)\n",
    "bokeh.plotting.show(figure)\n",
    "source.on_change"
   ]
  },
  {
   "cell_type": "code",
   "execution_count": 191,
   "metadata": {},
   "outputs": [
    {
     "data": {
      "text/html": [
       "<div style=\"display: table;\"><div style=\"display: table-row;\"><div style=\"display: table-cell;\"><b title=\"bokeh.models.sources.ColumnDataSource\">ColumnDataSource</b>(</div><div style=\"display: table-cell;\">id&nbsp;=&nbsp;'cb8d092b-0ace-41c4-9198-5b4f7e587311', <span id=\"c5b9cb02-9e4f-42b3-a672-7e069a7d13fb\" style=\"cursor: pointer;\">&hellip;)</span></div></div><div class=\"84687662-0fb2-4fb5-9f2d-016e133a1a88\" style=\"display: none;\"><div style=\"display: table-cell;\"></div><div style=\"display: table-cell;\">callback&nbsp;=&nbsp;None,</div></div><div class=\"84687662-0fb2-4fb5-9f2d-016e133a1a88\" style=\"display: none;\"><div style=\"display: table-cell;\"></div><div style=\"display: table-cell;\">column_names&nbsp;=&nbsp;['x', 'color'],</div></div><div class=\"84687662-0fb2-4fb5-9f2d-016e133a1a88\" style=\"display: none;\"><div style=\"display: table-cell;\"></div><div style=\"display: table-cell;\">data&nbsp;=&nbsp;{'color': ['#440154', '#440255', '#440357', '#450558', '#45065a', '#45085b', '#46095c', '#460b5e', '#460c5f', '#460e61', '#470f62', '#471163', '#471265', '#471466', '#471567', '#471669', '#47186a', '#48196b', '#481a6c', '#481c6e', '#481d6f', '#481e70', '#482071', '#482172', '#482273', '#482374', '#472575', '#472676', '#472777', '#472878', '#472a79', '#472b7a', '#472c7b', '#462d7c', '#462f7c', '#46307d', '#46317e', '#45327f', '#45347f', '#453580', '#453681', '#443781', '#443982', '#433a83', '#433b83', '#433c84', '#423d84', '#423e85', '#424085', '#414186', '#414286', '#404387', '#404487', '#3f4587', '#3f4788', '#3e4888', '#3e4989', '#3d4a89', '#3d4b89', '#3d4c89', '#3c4d8a', '#3c4e8a', '#3b508a', '#3b518a', '#3a528b', '#3a538b', '#39548b', '#39558b', '#38568b', '#38578c', '#37588c', '#37598c', '#365a8c', '#365b8c', '#355c8c', '#355d8c', '#345e8d', '#345f8d', '#33608d', '#33618d', '#32628d', '#32638d', '#31648d', '#31658d', '#31668d', '#30678d', '#30688d', '#2f698d', '#2f6a8d', '#2e6b8e', '#2e6c8e', '#2e6d8e', '#2d6e8e', '#2d6f8e', '#2c708e', '#2c718e', '#2c728e', '#2b738e', '#2b748e', '#2a758e', '#2a768e', '#2a778e', '#29788e', '#29798e', '#287a8e', '#287a8e', '#287b8e', '#277c8e', '#277d8e', '#277e8e', '#267f8e', '#26808e', '#26818e', '#25828e', '#25838d', '#24848d', '#24858d', '#24868d', '#23878d', '#23888d', '#23898d', '#22898d', '#228a8d', '#228b8d', '#218c8d', '#218d8c', '#218e8c', '#208f8c', '#20908c', '#20918c', '#1f928c', '#1f938b', '#1f948b', '#1f958b', '#1f968b', '#1e978a', '#1e988a', '#1e998a', '#1e998a', '#1e9a89', '#1e9b89', '#1e9c89', '#1e9d88', '#1e9e88', '#1e9f88', '#1ea087', '#1fa187', '#1fa286', '#1fa386', '#20a485', '#20a585', '#21a685', '#21a784', '#22a784', '#23a883', '#23a982', '#24aa82', '#25ab81', '#26ac81', '#27ad80', '#28ae7f', '#29af7f', '#2ab07e', '#2bb17d', '#2cb17d', '#2eb27c', '#2fb37b', '#30b47a', '#32b57a', '#33b679', '#35b778', '#36b877', '#38b976', '#39b976', '#3bba75', '#3dbb74', '#3ebc73', '#40bd72', '#42be71', '#44be70', '#45bf6f', '#47c06e', '#49c16d', '#4bc26c', '#4dc26b', '#4fc369', '#51c468', '#53c567', '#55c666', '#57c665', '#59c764', '#5bc862', '#5ec961', '#60c960', '#62ca5f', '#64cb5d', '#67cc5c', '#69cc5b', '#6bcd59', '#6dce58', '#70ce56', '#72cf55', '#74d054', '#77d052', '#79d151', '#7cd24f', '#7ed24e', '#81d34c', '#83d34b', '#86d449', '#88d547', '#8bd546', '#8dd644', '#90d643', '#92d741', '#95d73f', '#97d83e', '#9ad83c', '#9dd93a', '#9fd938', '#a2da37', '#a5da35', '#a7db33', '#aadb32', '#addc30', '#afdc2e', '#b2dd2c', '#b5dd2b', '#b7dd29', '#bade27', '#bdde26', '#bfdf24', '#c2df22', '#c5df21', '#c7e01f', '#cae01e', '#cde01d', '#cfe11c', '#d2e11b', '#d4e11a', '#d7e219', '#dae218', '#dce218', '#dfe318', '#e1e318', '#e4e318', '#e7e419', '#e9e419', '#ece41a', '#eee51b', '#f1e51c', '#f3e51e', '#f6e61f', '#f8e621', '#fae622', '#fde724'], 'x': {'__ndarray__': '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', 'shape': (256,), 'dtype': 'float64'}},</div></div><div class=\"84687662-0fb2-4fb5-9f2d-016e133a1a88\" style=\"display: none;\"><div style=\"display: table-cell;\"></div><div style=\"display: table-cell;\">js_event_callbacks&nbsp;=&nbsp;{},</div></div><div class=\"84687662-0fb2-4fb5-9f2d-016e133a1a88\" style=\"display: none;\"><div style=\"display: table-cell;\"></div><div style=\"display: table-cell;\">js_property_callbacks&nbsp;=&nbsp;{},</div></div><div class=\"84687662-0fb2-4fb5-9f2d-016e133a1a88\" style=\"display: none;\"><div style=\"display: table-cell;\"></div><div style=\"display: table-cell;\">name&nbsp;=&nbsp;None,</div></div><div class=\"84687662-0fb2-4fb5-9f2d-016e133a1a88\" style=\"display: none;\"><div style=\"display: table-cell;\"></div><div style=\"display: table-cell;\">selected&nbsp;=&nbsp;None,</div></div><div class=\"84687662-0fb2-4fb5-9f2d-016e133a1a88\" style=\"display: none;\"><div style=\"display: table-cell;\"></div><div style=\"display: table-cell;\">selection_policy&nbsp;=&nbsp;None,</div></div><div class=\"84687662-0fb2-4fb5-9f2d-016e133a1a88\" style=\"display: none;\"><div style=\"display: table-cell;\"></div><div style=\"display: table-cell;\">subscribed_events&nbsp;=&nbsp;[],</div></div><div class=\"84687662-0fb2-4fb5-9f2d-016e133a1a88\" style=\"display: none;\"><div style=\"display: table-cell;\"></div><div style=\"display: table-cell;\">tags&nbsp;=&nbsp;[])</div></div></div>\n",
       "<script>\n",
       "(function() {\n",
       "  var expanded = false;\n",
       "  var ellipsis = document.getElementById(\"c5b9cb02-9e4f-42b3-a672-7e069a7d13fb\");\n",
       "  ellipsis.addEventListener(\"click\", function() {\n",
       "    var rows = document.getElementsByClassName(\"84687662-0fb2-4fb5-9f2d-016e133a1a88\");\n",
       "    for (var i = 0; i < rows.length; i++) {\n",
       "      var el = rows[i];\n",
       "      el.style.display = expanded ? \"none\" : \"table-row\";\n",
       "    }\n",
       "    ellipsis.innerHTML = expanded ? \"&hellip;)\" : \"&lsaquo;&lsaquo;&lsaquo;\";\n",
       "    expanded = !expanded;\n",
       "  });\n",
       "})();\n",
       "</script>\n"
      ],
      "text/plain": [
       "ColumnDataSource(id='cb8d092b-0ace-41c4-9198-5b4f7e587311', ...)"
      ]
     },
     "execution_count": 191,
     "metadata": {},
     "output_type": "execute_result"
    }
   ],
   "source": []
  },
  {
   "cell_type": "code",
   "execution_count": null,
   "metadata": {},
   "outputs": [],
   "source": []
  }
 ],
 "metadata": {
  "kernelspec": {
   "display_name": "Python 3",
   "language": "python",
   "name": "python3"
  },
  "language_info": {
   "codemirror_mode": {
    "name": "ipython",
    "version": 3
   },
   "file_extension": ".py",
   "mimetype": "text/x-python",
   "name": "python",
   "nbconvert_exporter": "python",
   "pygments_lexer": "ipython3",
   "version": "3.6.4"
  }
 },
 "nbformat": 4,
 "nbformat_minor": 2
}
